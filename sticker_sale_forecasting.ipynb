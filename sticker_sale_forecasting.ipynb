{
 "cells": [
  {
   "cell_type": "code",
   "execution_count": 1,
   "metadata": {},
   "outputs": [],
   "source": [
    "import pandas as pd"
   ]
  },
  {
   "cell_type": "code",
   "execution_count": 2,
   "metadata": {},
   "outputs": [],
   "source": [
    "train_df = pd.read_csv(\"/Users/priyanshu.tuli/Desktop/machinehack/sticker_sale_forecast/playground-series-s5e1/train.csv\")"
   ]
  },
  {
   "cell_type": "code",
   "execution_count": 3,
   "metadata": {},
   "outputs": [],
   "source": [
    "test_df = pd.read_csv(\"/Users/priyanshu.tuli/Desktop/machinehack/sticker_sale_forecast/playground-series-s5e1/test.csv\")"
   ]
  },
  {
   "cell_type": "code",
   "execution_count": 4,
   "metadata": {},
   "outputs": [
    {
     "data": {
      "text/plain": [
       "((230130, 6), (98550, 5))"
      ]
     },
     "execution_count": 4,
     "metadata": {},
     "output_type": "execute_result"
    }
   ],
   "source": [
    "train_df.shape, test_df.shape"
   ]
  },
  {
   "cell_type": "code",
   "execution_count": 5,
   "metadata": {},
   "outputs": [
    {
     "data": {
      "text/html": [
       "<div>\n",
       "<style scoped>\n",
       "    .dataframe tbody tr th:only-of-type {\n",
       "        vertical-align: middle;\n",
       "    }\n",
       "\n",
       "    .dataframe tbody tr th {\n",
       "        vertical-align: top;\n",
       "    }\n",
       "\n",
       "    .dataframe thead th {\n",
       "        text-align: right;\n",
       "    }\n",
       "</style>\n",
       "<table border=\"1\" class=\"dataframe\">\n",
       "  <thead>\n",
       "    <tr style=\"text-align: right;\">\n",
       "      <th></th>\n",
       "      <th>id</th>\n",
       "      <th>date</th>\n",
       "      <th>country</th>\n",
       "      <th>store</th>\n",
       "      <th>product</th>\n",
       "      <th>num_sold</th>\n",
       "    </tr>\n",
       "  </thead>\n",
       "  <tbody>\n",
       "    <tr>\n",
       "      <th>0</th>\n",
       "      <td>0</td>\n",
       "      <td>2010-01-01</td>\n",
       "      <td>Canada</td>\n",
       "      <td>Discount Stickers</td>\n",
       "      <td>Holographic Goose</td>\n",
       "      <td>NaN</td>\n",
       "    </tr>\n",
       "    <tr>\n",
       "      <th>1</th>\n",
       "      <td>1</td>\n",
       "      <td>2010-01-01</td>\n",
       "      <td>Canada</td>\n",
       "      <td>Discount Stickers</td>\n",
       "      <td>Kaggle</td>\n",
       "      <td>973.0</td>\n",
       "    </tr>\n",
       "    <tr>\n",
       "      <th>2</th>\n",
       "      <td>2</td>\n",
       "      <td>2010-01-01</td>\n",
       "      <td>Canada</td>\n",
       "      <td>Discount Stickers</td>\n",
       "      <td>Kaggle Tiers</td>\n",
       "      <td>906.0</td>\n",
       "    </tr>\n",
       "    <tr>\n",
       "      <th>3</th>\n",
       "      <td>3</td>\n",
       "      <td>2010-01-01</td>\n",
       "      <td>Canada</td>\n",
       "      <td>Discount Stickers</td>\n",
       "      <td>Kerneler</td>\n",
       "      <td>423.0</td>\n",
       "    </tr>\n",
       "    <tr>\n",
       "      <th>4</th>\n",
       "      <td>4</td>\n",
       "      <td>2010-01-01</td>\n",
       "      <td>Canada</td>\n",
       "      <td>Discount Stickers</td>\n",
       "      <td>Kerneler Dark Mode</td>\n",
       "      <td>491.0</td>\n",
       "    </tr>\n",
       "  </tbody>\n",
       "</table>\n",
       "</div>"
      ],
      "text/plain": [
       "   id        date country              store             product  num_sold\n",
       "0   0  2010-01-01  Canada  Discount Stickers   Holographic Goose       NaN\n",
       "1   1  2010-01-01  Canada  Discount Stickers              Kaggle     973.0\n",
       "2   2  2010-01-01  Canada  Discount Stickers        Kaggle Tiers     906.0\n",
       "3   3  2010-01-01  Canada  Discount Stickers            Kerneler     423.0\n",
       "4   4  2010-01-01  Canada  Discount Stickers  Kerneler Dark Mode     491.0"
      ]
     },
     "execution_count": 5,
     "metadata": {},
     "output_type": "execute_result"
    }
   ],
   "source": [
    "train_df.head()"
   ]
  },
  {
   "cell_type": "code",
   "execution_count": 6,
   "metadata": {},
   "outputs": [
    {
     "data": {
      "text/html": [
       "<div>\n",
       "<style scoped>\n",
       "    .dataframe tbody tr th:only-of-type {\n",
       "        vertical-align: middle;\n",
       "    }\n",
       "\n",
       "    .dataframe tbody tr th {\n",
       "        vertical-align: top;\n",
       "    }\n",
       "\n",
       "    .dataframe thead th {\n",
       "        text-align: right;\n",
       "    }\n",
       "</style>\n",
       "<table border=\"1\" class=\"dataframe\">\n",
       "  <thead>\n",
       "    <tr style=\"text-align: right;\">\n",
       "      <th></th>\n",
       "      <th>id</th>\n",
       "      <th>date</th>\n",
       "      <th>country</th>\n",
       "      <th>store</th>\n",
       "      <th>product</th>\n",
       "    </tr>\n",
       "  </thead>\n",
       "  <tbody>\n",
       "    <tr>\n",
       "      <th>0</th>\n",
       "      <td>230130</td>\n",
       "      <td>2017-01-01</td>\n",
       "      <td>Canada</td>\n",
       "      <td>Discount Stickers</td>\n",
       "      <td>Holographic Goose</td>\n",
       "    </tr>\n",
       "    <tr>\n",
       "      <th>1</th>\n",
       "      <td>230131</td>\n",
       "      <td>2017-01-01</td>\n",
       "      <td>Canada</td>\n",
       "      <td>Discount Stickers</td>\n",
       "      <td>Kaggle</td>\n",
       "    </tr>\n",
       "    <tr>\n",
       "      <th>2</th>\n",
       "      <td>230132</td>\n",
       "      <td>2017-01-01</td>\n",
       "      <td>Canada</td>\n",
       "      <td>Discount Stickers</td>\n",
       "      <td>Kaggle Tiers</td>\n",
       "    </tr>\n",
       "    <tr>\n",
       "      <th>3</th>\n",
       "      <td>230133</td>\n",
       "      <td>2017-01-01</td>\n",
       "      <td>Canada</td>\n",
       "      <td>Discount Stickers</td>\n",
       "      <td>Kerneler</td>\n",
       "    </tr>\n",
       "    <tr>\n",
       "      <th>4</th>\n",
       "      <td>230134</td>\n",
       "      <td>2017-01-01</td>\n",
       "      <td>Canada</td>\n",
       "      <td>Discount Stickers</td>\n",
       "      <td>Kerneler Dark Mode</td>\n",
       "    </tr>\n",
       "  </tbody>\n",
       "</table>\n",
       "</div>"
      ],
      "text/plain": [
       "       id        date country              store             product\n",
       "0  230130  2017-01-01  Canada  Discount Stickers   Holographic Goose\n",
       "1  230131  2017-01-01  Canada  Discount Stickers              Kaggle\n",
       "2  230132  2017-01-01  Canada  Discount Stickers        Kaggle Tiers\n",
       "3  230133  2017-01-01  Canada  Discount Stickers            Kerneler\n",
       "4  230134  2017-01-01  Canada  Discount Stickers  Kerneler Dark Mode"
      ]
     },
     "execution_count": 6,
     "metadata": {},
     "output_type": "execute_result"
    }
   ],
   "source": [
    "test_df.head()"
   ]
  },
  {
   "cell_type": "code",
   "execution_count": 7,
   "metadata": {},
   "outputs": [
    {
     "name": "stdout",
     "output_type": "stream",
     "text": [
      "<class 'pandas.core.frame.DataFrame'>\n",
      "RangeIndex: 230130 entries, 0 to 230129\n",
      "Data columns (total 6 columns):\n",
      " #   Column    Non-Null Count   Dtype  \n",
      "---  ------    --------------   -----  \n",
      " 0   id        230130 non-null  int64  \n",
      " 1   date      230130 non-null  object \n",
      " 2   country   230130 non-null  object \n",
      " 3   store     230130 non-null  object \n",
      " 4   product   230130 non-null  object \n",
      " 5   num_sold  221259 non-null  float64\n",
      "dtypes: float64(1), int64(1), object(4)\n",
      "memory usage: 10.5+ MB\n"
     ]
    }
   ],
   "source": [
    "train_df.info()"
   ]
  },
  {
   "cell_type": "code",
   "execution_count": 8,
   "metadata": {},
   "outputs": [
    {
     "data": {
      "text/plain": [
       "230130"
      ]
     },
     "execution_count": 8,
     "metadata": {},
     "output_type": "execute_result"
    }
   ],
   "source": [
    "train_df['id'].nunique()"
   ]
  },
  {
   "cell_type": "code",
   "execution_count": 9,
   "metadata": {},
   "outputs": [],
   "source": [
    "train_df.drop(columns=['id'], inplace=True)"
   ]
  },
  {
   "cell_type": "code",
   "execution_count": 10,
   "metadata": {},
   "outputs": [
    {
     "data": {
      "text/plain": [
       "{'num_sold'}"
      ]
     },
     "execution_count": 10,
     "metadata": {},
     "output_type": "execute_result"
    }
   ],
   "source": [
    "set(train_df.columns) - set(test_df.columns)"
   ]
  },
  {
   "cell_type": "code",
   "execution_count": 11,
   "metadata": {},
   "outputs": [],
   "source": [
    "train_df.dropna(subset=['num_sold'], inplace=True)"
   ]
  },
  {
   "cell_type": "code",
   "execution_count": 12,
   "metadata": {},
   "outputs": [
    {
     "data": {
      "text/plain": [
       "(221259, 5)"
      ]
     },
     "execution_count": 12,
     "metadata": {},
     "output_type": "execute_result"
    }
   ],
   "source": [
    "train_df.shape"
   ]
  },
  {
   "cell_type": "code",
   "execution_count": 13,
   "metadata": {},
   "outputs": [
    {
     "data": {
      "text/html": [
       "<div>\n",
       "<style scoped>\n",
       "    .dataframe tbody tr th:only-of-type {\n",
       "        vertical-align: middle;\n",
       "    }\n",
       "\n",
       "    .dataframe tbody tr th {\n",
       "        vertical-align: top;\n",
       "    }\n",
       "\n",
       "    .dataframe thead th {\n",
       "        text-align: right;\n",
       "    }\n",
       "</style>\n",
       "<table border=\"1\" class=\"dataframe\">\n",
       "  <thead>\n",
       "    <tr style=\"text-align: right;\">\n",
       "      <th></th>\n",
       "      <th>date</th>\n",
       "      <th>country</th>\n",
       "      <th>store</th>\n",
       "      <th>product</th>\n",
       "      <th>num_sold</th>\n",
       "    </tr>\n",
       "  </thead>\n",
       "  <tbody>\n",
       "    <tr>\n",
       "      <th>1</th>\n",
       "      <td>2010-01-01</td>\n",
       "      <td>Canada</td>\n",
       "      <td>Discount Stickers</td>\n",
       "      <td>Kaggle</td>\n",
       "      <td>973.0</td>\n",
       "    </tr>\n",
       "    <tr>\n",
       "      <th>2</th>\n",
       "      <td>2010-01-01</td>\n",
       "      <td>Canada</td>\n",
       "      <td>Discount Stickers</td>\n",
       "      <td>Kaggle Tiers</td>\n",
       "      <td>906.0</td>\n",
       "    </tr>\n",
       "    <tr>\n",
       "      <th>3</th>\n",
       "      <td>2010-01-01</td>\n",
       "      <td>Canada</td>\n",
       "      <td>Discount Stickers</td>\n",
       "      <td>Kerneler</td>\n",
       "      <td>423.0</td>\n",
       "    </tr>\n",
       "    <tr>\n",
       "      <th>4</th>\n",
       "      <td>2010-01-01</td>\n",
       "      <td>Canada</td>\n",
       "      <td>Discount Stickers</td>\n",
       "      <td>Kerneler Dark Mode</td>\n",
       "      <td>491.0</td>\n",
       "    </tr>\n",
       "    <tr>\n",
       "      <th>5</th>\n",
       "      <td>2010-01-01</td>\n",
       "      <td>Canada</td>\n",
       "      <td>Stickers for Less</td>\n",
       "      <td>Holographic Goose</td>\n",
       "      <td>300.0</td>\n",
       "    </tr>\n",
       "  </tbody>\n",
       "</table>\n",
       "</div>"
      ],
      "text/plain": [
       "         date country              store             product  num_sold\n",
       "1  2010-01-01  Canada  Discount Stickers              Kaggle     973.0\n",
       "2  2010-01-01  Canada  Discount Stickers        Kaggle Tiers     906.0\n",
       "3  2010-01-01  Canada  Discount Stickers            Kerneler     423.0\n",
       "4  2010-01-01  Canada  Discount Stickers  Kerneler Dark Mode     491.0\n",
       "5  2010-01-01  Canada  Stickers for Less   Holographic Goose     300.0"
      ]
     },
     "execution_count": 13,
     "metadata": {},
     "output_type": "execute_result"
    }
   ],
   "source": [
    "train_df.head()"
   ]
  },
  {
   "cell_type": "code",
   "execution_count": 14,
   "metadata": {},
   "outputs": [
    {
     "data": {
      "text/plain": [
       "product\n",
       "Kaggle                0.208019\n",
       "Kaggle Tiers          0.208019\n",
       "Kerneler Dark Mode    0.208014\n",
       "Kerneler              0.207729\n",
       "Holographic Goose     0.168219\n",
       "Name: proportion, dtype: float64"
      ]
     },
     "execution_count": 14,
     "metadata": {},
     "output_type": "execute_result"
    }
   ],
   "source": [
    "train_df['product'].value_counts(normalize=True)"
   ]
  },
  {
   "cell_type": "code",
   "execution_count": 15,
   "metadata": {},
   "outputs": [
    {
     "data": {
      "text/plain": [
       "country\n",
       "Finland      0.173349\n",
       "Italy        0.173349\n",
       "Norway       0.173349\n",
       "Singapore    0.173349\n",
       "Canada       0.154159\n",
       "Kenya        0.152446\n",
       "Name: proportion, dtype: float64"
      ]
     },
     "execution_count": 15,
     "metadata": {},
     "output_type": "execute_result"
    }
   ],
   "source": [
    "train_df['country'].value_counts(normalize=True)"
   ]
  },
  {
   "cell_type": "code",
   "execution_count": 16,
   "metadata": {},
   "outputs": [
    {
     "data": {
      "text/plain": [
       "store\n",
       "Premium Sticker Mart    0.342061\n",
       "Stickers for Less       0.334649\n",
       "Discount Stickers       0.323291\n",
       "Name: proportion, dtype: float64"
      ]
     },
     "execution_count": 16,
     "metadata": {},
     "output_type": "execute_result"
    }
   ],
   "source": [
    "train_df['store'].value_counts(normalize=True)"
   ]
  },
  {
   "cell_type": "code",
   "execution_count": 17,
   "metadata": {},
   "outputs": [],
   "source": [
    "train_df['date'] = pd.to_datetime(train_df['date'])\n",
    "test_df['date'] = pd.to_datetime(test_df['date'])"
   ]
  },
  {
   "cell_type": "code",
   "execution_count": 18,
   "metadata": {},
   "outputs": [],
   "source": [
    "train_df['is_weekend'] = train_df['date'].dt.dayofweek.isin([5, 6])\n",
    "test_df['is_weekend'] = test_df['date'].dt.dayofweek.isin([5, 6])"
   ]
  },
  {
   "cell_type": "code",
   "execution_count": 19,
   "metadata": {},
   "outputs": [],
   "source": [
    "train_df['day_of_week'] = train_df['date'].dt.dayofweek\n",
    "test_df['day_of_week'] = test_df['date'].dt.dayofweek"
   ]
  },
  {
   "cell_type": "code",
   "execution_count": 20,
   "metadata": {},
   "outputs": [],
   "source": [
    "train_df['month'] = train_df['date'].dt.month\n",
    "test_df['month'] = test_df['date'].dt.month"
   ]
  },
  {
   "cell_type": "code",
   "execution_count": 21,
   "metadata": {},
   "outputs": [],
   "source": [
    "train_df['week_number'] = train_df['date'].dt.isocalendar().week\n",
    "test_df['week_number'] = test_df['date'].dt.isocalendar().week"
   ]
  },
  {
   "cell_type": "code",
   "execution_count": 22,
   "metadata": {},
   "outputs": [],
   "source": [
    "train_df['is_month_end'] = train_df['date'].dt.is_month_end\n",
    "test_df['is_month_end'] = test_df['date'].dt.is_month_end\n",
    "train_df['is_month_start'] = train_df['date'].dt.is_month_start\n",
    "test_df['is_month_start'] = test_df['date'].dt.is_month_start\n",
    "train_df['is_quarter_end'] = train_df['date'].dt.is_quarter_end\n",
    "test_df['is_quarter_end'] = test_df['date'].dt.is_quarter_end"
   ]
  },
  {
   "cell_type": "code",
   "execution_count": 23,
   "metadata": {},
   "outputs": [],
   "source": [
    "train_df['is_week_start'] = train_df['date'].dt.dayofweek == 0\n",
    "test_df['is_week_start'] = test_df['date'].dt.dayofweek == 0"
   ]
  },
  {
   "cell_type": "code",
   "execution_count": 24,
   "metadata": {},
   "outputs": [],
   "source": [
    "train_df['year'] = train_df['date'].dt.year\n",
    "test_df['year'] = test_df['date'].dt.year"
   ]
  },
  {
   "cell_type": "code",
   "execution_count": 25,
   "metadata": {},
   "outputs": [],
   "source": [
    "train_df['is_leap_year'] = train_df['date'].dt.is_leap_year\n",
    "test_df['is_leap_year'] = test_df['date'].dt.is_leap_year"
   ]
  },
  {
   "cell_type": "code",
   "execution_count": 26,
   "metadata": {},
   "outputs": [],
   "source": [
    "train_country_dummies = pd.get_dummies(train_df['country'], prefix='country')\n",
    "test_country_dummies = pd.get_dummies(test_df['country'], prefix='country')"
   ]
  },
  {
   "cell_type": "code",
   "execution_count": 27,
   "metadata": {},
   "outputs": [
    {
     "data": {
      "text/plain": [
       "set()"
      ]
     },
     "execution_count": 27,
     "metadata": {},
     "output_type": "execute_result"
    }
   ],
   "source": [
    "set(train_country_dummies.columns) - set(test_country_dummies.columns)"
   ]
  },
  {
   "cell_type": "code",
   "execution_count": 28,
   "metadata": {},
   "outputs": [
    {
     "data": {
      "text/plain": [
       "set()"
      ]
     },
     "execution_count": 28,
     "metadata": {},
     "output_type": "execute_result"
    }
   ],
   "source": [
    "set(test_country_dummies.columns) - set(train_country_dummies.columns)"
   ]
  },
  {
   "cell_type": "code",
   "execution_count": 29,
   "metadata": {},
   "outputs": [],
   "source": [
    "train_df = pd.concat([train_df, train_country_dummies], axis=1)\n",
    "test_df = pd.concat([test_df, test_country_dummies], axis=1)"
   ]
  },
  {
   "cell_type": "code",
   "execution_count": 30,
   "metadata": {},
   "outputs": [
    {
     "data": {
      "text/html": [
       "<div>\n",
       "<style scoped>\n",
       "    .dataframe tbody tr th:only-of-type {\n",
       "        vertical-align: middle;\n",
       "    }\n",
       "\n",
       "    .dataframe tbody tr th {\n",
       "        vertical-align: top;\n",
       "    }\n",
       "\n",
       "    .dataframe thead th {\n",
       "        text-align: right;\n",
       "    }\n",
       "</style>\n",
       "<table border=\"1\" class=\"dataframe\">\n",
       "  <thead>\n",
       "    <tr style=\"text-align: right;\">\n",
       "      <th></th>\n",
       "      <th>date</th>\n",
       "      <th>country</th>\n",
       "      <th>store</th>\n",
       "      <th>product</th>\n",
       "      <th>num_sold</th>\n",
       "      <th>is_weekend</th>\n",
       "      <th>day_of_week</th>\n",
       "      <th>month</th>\n",
       "      <th>week_number</th>\n",
       "      <th>is_month_end</th>\n",
       "      <th>...</th>\n",
       "      <th>is_quarter_end</th>\n",
       "      <th>is_week_start</th>\n",
       "      <th>year</th>\n",
       "      <th>is_leap_year</th>\n",
       "      <th>country_Canada</th>\n",
       "      <th>country_Finland</th>\n",
       "      <th>country_Italy</th>\n",
       "      <th>country_Kenya</th>\n",
       "      <th>country_Norway</th>\n",
       "      <th>country_Singapore</th>\n",
       "    </tr>\n",
       "  </thead>\n",
       "  <tbody>\n",
       "    <tr>\n",
       "      <th>1</th>\n",
       "      <td>2010-01-01</td>\n",
       "      <td>Canada</td>\n",
       "      <td>Discount Stickers</td>\n",
       "      <td>Kaggle</td>\n",
       "      <td>973.0</td>\n",
       "      <td>False</td>\n",
       "      <td>4</td>\n",
       "      <td>1</td>\n",
       "      <td>53</td>\n",
       "      <td>False</td>\n",
       "      <td>...</td>\n",
       "      <td>False</td>\n",
       "      <td>False</td>\n",
       "      <td>2010</td>\n",
       "      <td>False</td>\n",
       "      <td>True</td>\n",
       "      <td>False</td>\n",
       "      <td>False</td>\n",
       "      <td>False</td>\n",
       "      <td>False</td>\n",
       "      <td>False</td>\n",
       "    </tr>\n",
       "    <tr>\n",
       "      <th>2</th>\n",
       "      <td>2010-01-01</td>\n",
       "      <td>Canada</td>\n",
       "      <td>Discount Stickers</td>\n",
       "      <td>Kaggle Tiers</td>\n",
       "      <td>906.0</td>\n",
       "      <td>False</td>\n",
       "      <td>4</td>\n",
       "      <td>1</td>\n",
       "      <td>53</td>\n",
       "      <td>False</td>\n",
       "      <td>...</td>\n",
       "      <td>False</td>\n",
       "      <td>False</td>\n",
       "      <td>2010</td>\n",
       "      <td>False</td>\n",
       "      <td>True</td>\n",
       "      <td>False</td>\n",
       "      <td>False</td>\n",
       "      <td>False</td>\n",
       "      <td>False</td>\n",
       "      <td>False</td>\n",
       "    </tr>\n",
       "    <tr>\n",
       "      <th>3</th>\n",
       "      <td>2010-01-01</td>\n",
       "      <td>Canada</td>\n",
       "      <td>Discount Stickers</td>\n",
       "      <td>Kerneler</td>\n",
       "      <td>423.0</td>\n",
       "      <td>False</td>\n",
       "      <td>4</td>\n",
       "      <td>1</td>\n",
       "      <td>53</td>\n",
       "      <td>False</td>\n",
       "      <td>...</td>\n",
       "      <td>False</td>\n",
       "      <td>False</td>\n",
       "      <td>2010</td>\n",
       "      <td>False</td>\n",
       "      <td>True</td>\n",
       "      <td>False</td>\n",
       "      <td>False</td>\n",
       "      <td>False</td>\n",
       "      <td>False</td>\n",
       "      <td>False</td>\n",
       "    </tr>\n",
       "    <tr>\n",
       "      <th>4</th>\n",
       "      <td>2010-01-01</td>\n",
       "      <td>Canada</td>\n",
       "      <td>Discount Stickers</td>\n",
       "      <td>Kerneler Dark Mode</td>\n",
       "      <td>491.0</td>\n",
       "      <td>False</td>\n",
       "      <td>4</td>\n",
       "      <td>1</td>\n",
       "      <td>53</td>\n",
       "      <td>False</td>\n",
       "      <td>...</td>\n",
       "      <td>False</td>\n",
       "      <td>False</td>\n",
       "      <td>2010</td>\n",
       "      <td>False</td>\n",
       "      <td>True</td>\n",
       "      <td>False</td>\n",
       "      <td>False</td>\n",
       "      <td>False</td>\n",
       "      <td>False</td>\n",
       "      <td>False</td>\n",
       "    </tr>\n",
       "    <tr>\n",
       "      <th>5</th>\n",
       "      <td>2010-01-01</td>\n",
       "      <td>Canada</td>\n",
       "      <td>Stickers for Less</td>\n",
       "      <td>Holographic Goose</td>\n",
       "      <td>300.0</td>\n",
       "      <td>False</td>\n",
       "      <td>4</td>\n",
       "      <td>1</td>\n",
       "      <td>53</td>\n",
       "      <td>False</td>\n",
       "      <td>...</td>\n",
       "      <td>False</td>\n",
       "      <td>False</td>\n",
       "      <td>2010</td>\n",
       "      <td>False</td>\n",
       "      <td>True</td>\n",
       "      <td>False</td>\n",
       "      <td>False</td>\n",
       "      <td>False</td>\n",
       "      <td>False</td>\n",
       "      <td>False</td>\n",
       "    </tr>\n",
       "  </tbody>\n",
       "</table>\n",
       "<p>5 rows × 21 columns</p>\n",
       "</div>"
      ],
      "text/plain": [
       "        date country              store             product  num_sold  \\\n",
       "1 2010-01-01  Canada  Discount Stickers              Kaggle     973.0   \n",
       "2 2010-01-01  Canada  Discount Stickers        Kaggle Tiers     906.0   \n",
       "3 2010-01-01  Canada  Discount Stickers            Kerneler     423.0   \n",
       "4 2010-01-01  Canada  Discount Stickers  Kerneler Dark Mode     491.0   \n",
       "5 2010-01-01  Canada  Stickers for Less   Holographic Goose     300.0   \n",
       "\n",
       "   is_weekend  day_of_week  month  week_number  is_month_end  ...  \\\n",
       "1       False            4      1           53         False  ...   \n",
       "2       False            4      1           53         False  ...   \n",
       "3       False            4      1           53         False  ...   \n",
       "4       False            4      1           53         False  ...   \n",
       "5       False            4      1           53         False  ...   \n",
       "\n",
       "   is_quarter_end  is_week_start  year  is_leap_year  country_Canada  \\\n",
       "1           False          False  2010         False            True   \n",
       "2           False          False  2010         False            True   \n",
       "3           False          False  2010         False            True   \n",
       "4           False          False  2010         False            True   \n",
       "5           False          False  2010         False            True   \n",
       "\n",
       "   country_Finland  country_Italy  country_Kenya  country_Norway  \\\n",
       "1            False          False          False           False   \n",
       "2            False          False          False           False   \n",
       "3            False          False          False           False   \n",
       "4            False          False          False           False   \n",
       "5            False          False          False           False   \n",
       "\n",
       "   country_Singapore  \n",
       "1              False  \n",
       "2              False  \n",
       "3              False  \n",
       "4              False  \n",
       "5              False  \n",
       "\n",
       "[5 rows x 21 columns]"
      ]
     },
     "execution_count": 30,
     "metadata": {},
     "output_type": "execute_result"
    }
   ],
   "source": [
    "train_df.head()"
   ]
  },
  {
   "cell_type": "code",
   "execution_count": 31,
   "metadata": {},
   "outputs": [],
   "source": [
    "train_store_dummies = pd.get_dummies(train_df['store'], prefix='store')\n",
    "test_store_dummies = pd.get_dummies(test_df['store'], prefix='store')"
   ]
  },
  {
   "cell_type": "code",
   "execution_count": 32,
   "metadata": {},
   "outputs": [
    {
     "data": {
      "text/plain": [
       "set()"
      ]
     },
     "execution_count": 32,
     "metadata": {},
     "output_type": "execute_result"
    }
   ],
   "source": [
    "set(train_store_dummies.columns) - set(test_store_dummies.columns)"
   ]
  },
  {
   "cell_type": "code",
   "execution_count": 33,
   "metadata": {},
   "outputs": [
    {
     "data": {
      "text/plain": [
       "set()"
      ]
     },
     "execution_count": 33,
     "metadata": {},
     "output_type": "execute_result"
    }
   ],
   "source": [
    "set(train_store_dummies.columns) - set(test_store_dummies.columns)"
   ]
  },
  {
   "cell_type": "code",
   "execution_count": 34,
   "metadata": {},
   "outputs": [],
   "source": [
    "train_df = pd.concat([train_df, train_store_dummies], axis=1)\n",
    "test_df = pd.concat([test_df, test_store_dummies], axis=1)"
   ]
  },
  {
   "cell_type": "code",
   "execution_count": 35,
   "metadata": {},
   "outputs": [],
   "source": [
    "train_product_dummies = pd.get_dummies(train_df['product'], prefix='product')\n",
    "test_product_dummies = pd.get_dummies(test_df['product'], prefix='product')"
   ]
  },
  {
   "cell_type": "code",
   "execution_count": 36,
   "metadata": {},
   "outputs": [
    {
     "data": {
      "text/plain": [
       "set()"
      ]
     },
     "execution_count": 36,
     "metadata": {},
     "output_type": "execute_result"
    }
   ],
   "source": [
    "set(train_product_dummies.columns) - set(test_product_dummies.columns)"
   ]
  },
  {
   "cell_type": "code",
   "execution_count": 37,
   "metadata": {},
   "outputs": [
    {
     "data": {
      "text/plain": [
       "set()"
      ]
     },
     "execution_count": 37,
     "metadata": {},
     "output_type": "execute_result"
    }
   ],
   "source": [
    "set(test_product_dummies.columns) - set(train_product_dummies.columns)"
   ]
  },
  {
   "cell_type": "code",
   "execution_count": 38,
   "metadata": {},
   "outputs": [],
   "source": [
    "train_df = pd.concat([train_df, train_product_dummies], axis=1)\n",
    "test_df = pd.concat([test_df, test_product_dummies], axis=1)"
   ]
  },
  {
   "cell_type": "code",
   "execution_count": 39,
   "metadata": {},
   "outputs": [],
   "source": [
    "train_df['mean_num_sold_by_product'] = train_df.groupby('product')['num_sold'].transform('mean')\n",
    "train_df['median_num_sold_by_product'] = train_df.groupby('product')['num_sold'].transform('median')\n",
    "train_df['std_num_sold_by_product'] = train_df.groupby('product')['num_sold'].transform('std')\n",
    "train_df['max_num_sold_by_product'] = train_df.groupby('product')['num_sold'].transform('max')\n",
    "train_df['min_num_sold_by_product'] = train_df.groupby('product')['num_sold'].transform('min')"
   ]
  },
  {
   "cell_type": "code",
   "execution_count": 40,
   "metadata": {},
   "outputs": [],
   "source": [
    "for i, group in test_df.groupby(\"product\"):\n",
    "    test_df.loc[group.index, 'mean_num_sold_by_product'] = train_df.loc[train_df['product'] == i, 'num_sold'].mean()\n",
    "    test_df.loc[group.index, 'median_num_sold_by_product'] = train_df.loc[train_df['product'] == i, 'num_sold'].median()\n",
    "    test_df.loc[group.index, 'std_num_sold_by_product'] = train_df.loc[train_df['product'] == i, 'num_sold'].std()\n",
    "    test_df.loc[group.index, 'max_num_sold_by_product'] = train_df.loc[train_df['product'] == i, 'num_sold'].max()\n",
    "    test_df.loc[group.index, 'min_num_sold_by_product'] = train_df.loc[train_df['product'] == i, 'num_sold'].min()"
   ]
  },
  {
   "cell_type": "code",
   "execution_count": 41,
   "metadata": {},
   "outputs": [],
   "source": [
    "train_df['mean_num_sold_by_country_store'] = train_df.groupby(['country', 'store'])['num_sold'].transform('mean')\n",
    "train_df['median_num_sold_by_country_store'] = train_df.groupby(['country', 'store'])['num_sold'].transform('median')\n",
    "train_df['std_num_sold_by_country_store'] = train_df.groupby(['country', 'store'])['num_sold'].transform('std')\n",
    "train_df['max_num_sold_by_country_store'] = train_df.groupby(['country', 'store'])['num_sold'].transform('max')\n",
    "train_df['min_num_sold_by_country_store'] = train_df.groupby(['country', 'store'])['num_sold'].transform('min')"
   ]
  },
  {
   "cell_type": "code",
   "execution_count": 42,
   "metadata": {},
   "outputs": [],
   "source": [
    "train_df['mean_num_sold_by_country_product'] = train_df.groupby(['country', 'product'])['num_sold'].transform('mean')\n",
    "train_df['median_num_sold_by_country_product'] = train_df.groupby(['country', 'product'])['num_sold'].transform('median')\n",
    "train_df['std_num_sold_by_country_product'] = train_df.groupby(['country', 'product'])['num_sold'].transform('std')\n",
    "train_df['max_num_sold_by_country_product'] = train_df.groupby(['country', 'product'])['num_sold'].transform('max')\n",
    "train_df['min_num_sold_by_country_product'] = train_df.groupby(['country', 'product'])['num_sold'].transform('min')"
   ]
  },
  {
   "cell_type": "code",
   "execution_count": 43,
   "metadata": {},
   "outputs": [],
   "source": [
    "for i, group in test_df.groupby(['country', 'store']):\n",
    "    test_df.loc[group.index, 'mean_num_sold_by_country_store'] = train_df.loc[(train_df['country'] == i[0]) & (train_df['store'] == i[1]), 'num_sold'].mean()\n",
    "    test_df.loc[group.index, 'median_num_sold_by_country_store'] = train_df.loc[(train_df['country'] == i[0]) & (train_df['store'] == i[1]), 'num_sold'].median()\n",
    "    test_df.loc[group.index, 'std_num_sold_by_country_store'] = train_df.loc[(train_df['country'] == i[0]) & (train_df['store'] == i[1]), 'num_sold'].std()\n",
    "    test_df.loc[group.index, 'max_num_sold_by_country_store'] = train_df.loc[(train_df['country'] == i[0]) & (train_df['store'] == i[1]), 'num_sold'].max()\n",
    "    test_df.loc[group.index, 'min_num_sold_by_country_store'] = train_df.loc[(train_df['country'] == i[0]) & (train_df['store'] == i[1]), 'num_sold'].min()"
   ]
  },
  {
   "cell_type": "code",
   "execution_count": 44,
   "metadata": {},
   "outputs": [],
   "source": [
    "for i, group in test_df.groupby(['country', 'product']):\n",
    "    test_df.loc[group.index, 'mean_num_sold_by_country_product'] = train_df.loc[(train_df['country'] == i[0]) & (train_df['product'] == i[1]), 'num_sold'].mean()\n",
    "    test_df.loc[group.index, 'median_num_sold_by_country_product'] = train_df.loc[(train_df['country'] == i[0]) & (train_df['product'] == i[1]), 'num_sold'].median()\n",
    "    test_df.loc[group.index, 'std_num_sold_by_country_product'] = train_df.loc[(train_df['country'] == i[0]) & (train_df['product'] == i[1]), 'num_sold'].std()\n",
    "    test_df.loc[group.index, 'max_num_sold_by_country_product'] = train_df.loc[(train_df['country'] == i[0]) & (train_df['product'] == i[1]), 'num_sold'].max()\n",
    "    test_df.loc[group.index, 'min_num_sold_by_country_product'] = train_df.loc[(train_df['country'] == i[0]) & (train_df['product'] == i[1]), 'num_sold'].min()"
   ]
  },
  {
   "cell_type": "code",
   "execution_count": 45,
   "metadata": {},
   "outputs": [],
   "source": [
    "train_df['mean_num_sold_by_country'] = train_df.groupby(['country'])['num_sold'].transform('mean')\n",
    "train_df['median_num_sold_by_country'] = train_df.groupby(['country'])['num_sold'].transform('median')\n",
    "train_df['std_num_sold_by_country'] = train_df.groupby(['country'])['num_sold'].transform('std')\n",
    "train_df['max_num_sold_by_country'] = train_df.groupby(['country'])['num_sold'].transform('max')\n",
    "train_df['min_num_sold_by_country'] = train_df.groupby(['country'])['num_sold'].transform('min')"
   ]
  },
  {
   "cell_type": "code",
   "execution_count": 46,
   "metadata": {},
   "outputs": [],
   "source": [
    "for i, group in test_df.groupby('country'):\n",
    "    test_df.loc[group.index, 'mean_num_sold_by_country'] = train_df.loc[train_df['country'] == i, 'num_sold'].mean()\n",
    "    test_df.loc[group.index, 'median_num_sold_by_country'] = train_df.loc[train_df['country'] == i, 'num_sold'].median()\n",
    "    test_df.loc[group.index, 'std_num_sold_by_country'] = train_df.loc[train_df['country'] == i, 'num_sold'].std()\n",
    "    test_df.loc[group.index, 'max_num_sold_by_country'] = train_df.loc[train_df['country'] == i, 'num_sold'].max()\n",
    "    test_df.loc[group.index, 'min_num_sold_by_country'] = train_df.loc[train_df['country'] == i, 'num_sold'].min()"
   ]
  },
  {
   "cell_type": "code",
   "execution_count": 47,
   "metadata": {},
   "outputs": [],
   "source": [
    "from sklearn.cluster import DBSCAN"
   ]
  },
  {
   "cell_type": "code",
   "execution_count": 48,
   "metadata": {},
   "outputs": [],
   "source": [
    "cluster_cols = train_country_dummies.columns.tolist() + train_store_dummies.columns.tolist() + train_product_dummies.columns.tolist()"
   ]
  },
  {
   "cell_type": "code",
   "execution_count": 49,
   "metadata": {},
   "outputs": [
    {
     "data": {
      "text/plain": [
       "['country_Canada',\n",
       " 'country_Finland',\n",
       " 'country_Italy',\n",
       " 'country_Kenya',\n",
       " 'country_Norway',\n",
       " 'country_Singapore',\n",
       " 'store_Discount Stickers',\n",
       " 'store_Premium Sticker Mart',\n",
       " 'store_Stickers for Less',\n",
       " 'product_Holographic Goose',\n",
       " 'product_Kaggle',\n",
       " 'product_Kaggle Tiers',\n",
       " 'product_Kerneler',\n",
       " 'product_Kerneler Dark Mode']"
      ]
     },
     "execution_count": 49,
     "metadata": {},
     "output_type": "execute_result"
    }
   ],
   "source": [
    "cluster_cols"
   ]
  },
  {
   "cell_type": "code",
   "execution_count": 50,
   "metadata": {},
   "outputs": [],
   "source": [
    "from sklearn.preprocessing import StandardScaler"
   ]
  },
  {
   "cell_type": "code",
   "execution_count": 51,
   "metadata": {},
   "outputs": [],
   "source": [
    "scaler = StandardScaler()"
   ]
  },
  {
   "cell_type": "code",
   "execution_count": 52,
   "metadata": {},
   "outputs": [],
   "source": [
    "scaled_train_df = scaler.fit_transform(train_df[cluster_cols])"
   ]
  },
  {
   "cell_type": "code",
   "execution_count": 53,
   "metadata": {},
   "outputs": [
    {
     "data": {
      "text/html": [
       "<style>#sk-container-id-1 {\n",
       "  /* Definition of color scheme common for light and dark mode */\n",
       "  --sklearn-color-text: black;\n",
       "  --sklearn-color-line: gray;\n",
       "  /* Definition of color scheme for unfitted estimators */\n",
       "  --sklearn-color-unfitted-level-0: #fff5e6;\n",
       "  --sklearn-color-unfitted-level-1: #f6e4d2;\n",
       "  --sklearn-color-unfitted-level-2: #ffe0b3;\n",
       "  --sklearn-color-unfitted-level-3: chocolate;\n",
       "  /* Definition of color scheme for fitted estimators */\n",
       "  --sklearn-color-fitted-level-0: #f0f8ff;\n",
       "  --sklearn-color-fitted-level-1: #d4ebff;\n",
       "  --sklearn-color-fitted-level-2: #b3dbfd;\n",
       "  --sklearn-color-fitted-level-3: cornflowerblue;\n",
       "\n",
       "  /* Specific color for light theme */\n",
       "  --sklearn-color-text-on-default-background: var(--sg-text-color, var(--theme-code-foreground, var(--jp-content-font-color1, black)));\n",
       "  --sklearn-color-background: var(--sg-background-color, var(--theme-background, var(--jp-layout-color0, white)));\n",
       "  --sklearn-color-border-box: var(--sg-text-color, var(--theme-code-foreground, var(--jp-content-font-color1, black)));\n",
       "  --sklearn-color-icon: #696969;\n",
       "\n",
       "  @media (prefers-color-scheme: dark) {\n",
       "    /* Redefinition of color scheme for dark theme */\n",
       "    --sklearn-color-text-on-default-background: var(--sg-text-color, var(--theme-code-foreground, var(--jp-content-font-color1, white)));\n",
       "    --sklearn-color-background: var(--sg-background-color, var(--theme-background, var(--jp-layout-color0, #111)));\n",
       "    --sklearn-color-border-box: var(--sg-text-color, var(--theme-code-foreground, var(--jp-content-font-color1, white)));\n",
       "    --sklearn-color-icon: #878787;\n",
       "  }\n",
       "}\n",
       "\n",
       "#sk-container-id-1 {\n",
       "  color: var(--sklearn-color-text);\n",
       "}\n",
       "\n",
       "#sk-container-id-1 pre {\n",
       "  padding: 0;\n",
       "}\n",
       "\n",
       "#sk-container-id-1 input.sk-hidden--visually {\n",
       "  border: 0;\n",
       "  clip: rect(1px 1px 1px 1px);\n",
       "  clip: rect(1px, 1px, 1px, 1px);\n",
       "  height: 1px;\n",
       "  margin: -1px;\n",
       "  overflow: hidden;\n",
       "  padding: 0;\n",
       "  position: absolute;\n",
       "  width: 1px;\n",
       "}\n",
       "\n",
       "#sk-container-id-1 div.sk-dashed-wrapped {\n",
       "  border: 1px dashed var(--sklearn-color-line);\n",
       "  margin: 0 0.4em 0.5em 0.4em;\n",
       "  box-sizing: border-box;\n",
       "  padding-bottom: 0.4em;\n",
       "  background-color: var(--sklearn-color-background);\n",
       "}\n",
       "\n",
       "#sk-container-id-1 div.sk-container {\n",
       "  /* jupyter's `normalize.less` sets `[hidden] { display: none; }`\n",
       "     but bootstrap.min.css set `[hidden] { display: none !important; }`\n",
       "     so we also need the `!important` here to be able to override the\n",
       "     default hidden behavior on the sphinx rendered scikit-learn.org.\n",
       "     See: https://github.com/scikit-learn/scikit-learn/issues/21755 */\n",
       "  display: inline-block !important;\n",
       "  position: relative;\n",
       "}\n",
       "\n",
       "#sk-container-id-1 div.sk-text-repr-fallback {\n",
       "  display: none;\n",
       "}\n",
       "\n",
       "div.sk-parallel-item,\n",
       "div.sk-serial,\n",
       "div.sk-item {\n",
       "  /* draw centered vertical line to link estimators */\n",
       "  background-image: linear-gradient(var(--sklearn-color-text-on-default-background), var(--sklearn-color-text-on-default-background));\n",
       "  background-size: 2px 100%;\n",
       "  background-repeat: no-repeat;\n",
       "  background-position: center center;\n",
       "}\n",
       "\n",
       "/* Parallel-specific style estimator block */\n",
       "\n",
       "#sk-container-id-1 div.sk-parallel-item::after {\n",
       "  content: \"\";\n",
       "  width: 100%;\n",
       "  border-bottom: 2px solid var(--sklearn-color-text-on-default-background);\n",
       "  flex-grow: 1;\n",
       "}\n",
       "\n",
       "#sk-container-id-1 div.sk-parallel {\n",
       "  display: flex;\n",
       "  align-items: stretch;\n",
       "  justify-content: center;\n",
       "  background-color: var(--sklearn-color-background);\n",
       "  position: relative;\n",
       "}\n",
       "\n",
       "#sk-container-id-1 div.sk-parallel-item {\n",
       "  display: flex;\n",
       "  flex-direction: column;\n",
       "}\n",
       "\n",
       "#sk-container-id-1 div.sk-parallel-item:first-child::after {\n",
       "  align-self: flex-end;\n",
       "  width: 50%;\n",
       "}\n",
       "\n",
       "#sk-container-id-1 div.sk-parallel-item:last-child::after {\n",
       "  align-self: flex-start;\n",
       "  width: 50%;\n",
       "}\n",
       "\n",
       "#sk-container-id-1 div.sk-parallel-item:only-child::after {\n",
       "  width: 0;\n",
       "}\n",
       "\n",
       "/* Serial-specific style estimator block */\n",
       "\n",
       "#sk-container-id-1 div.sk-serial {\n",
       "  display: flex;\n",
       "  flex-direction: column;\n",
       "  align-items: center;\n",
       "  background-color: var(--sklearn-color-background);\n",
       "  padding-right: 1em;\n",
       "  padding-left: 1em;\n",
       "}\n",
       "\n",
       "\n",
       "/* Toggleable style: style used for estimator/Pipeline/ColumnTransformer box that is\n",
       "clickable and can be expanded/collapsed.\n",
       "- Pipeline and ColumnTransformer use this feature and define the default style\n",
       "- Estimators will overwrite some part of the style using the `sk-estimator` class\n",
       "*/\n",
       "\n",
       "/* Pipeline and ColumnTransformer style (default) */\n",
       "\n",
       "#sk-container-id-1 div.sk-toggleable {\n",
       "  /* Default theme specific background. It is overwritten whether we have a\n",
       "  specific estimator or a Pipeline/ColumnTransformer */\n",
       "  background-color: var(--sklearn-color-background);\n",
       "}\n",
       "\n",
       "/* Toggleable label */\n",
       "#sk-container-id-1 label.sk-toggleable__label {\n",
       "  cursor: pointer;\n",
       "  display: block;\n",
       "  width: 100%;\n",
       "  margin-bottom: 0;\n",
       "  padding: 0.5em;\n",
       "  box-sizing: border-box;\n",
       "  text-align: center;\n",
       "}\n",
       "\n",
       "#sk-container-id-1 label.sk-toggleable__label-arrow:before {\n",
       "  /* Arrow on the left of the label */\n",
       "  content: \"▸\";\n",
       "  float: left;\n",
       "  margin-right: 0.25em;\n",
       "  color: var(--sklearn-color-icon);\n",
       "}\n",
       "\n",
       "#sk-container-id-1 label.sk-toggleable__label-arrow:hover:before {\n",
       "  color: var(--sklearn-color-text);\n",
       "}\n",
       "\n",
       "/* Toggleable content - dropdown */\n",
       "\n",
       "#sk-container-id-1 div.sk-toggleable__content {\n",
       "  max-height: 0;\n",
       "  max-width: 0;\n",
       "  overflow: hidden;\n",
       "  text-align: left;\n",
       "  /* unfitted */\n",
       "  background-color: var(--sklearn-color-unfitted-level-0);\n",
       "}\n",
       "\n",
       "#sk-container-id-1 div.sk-toggleable__content.fitted {\n",
       "  /* fitted */\n",
       "  background-color: var(--sklearn-color-fitted-level-0);\n",
       "}\n",
       "\n",
       "#sk-container-id-1 div.sk-toggleable__content pre {\n",
       "  margin: 0.2em;\n",
       "  border-radius: 0.25em;\n",
       "  color: var(--sklearn-color-text);\n",
       "  /* unfitted */\n",
       "  background-color: var(--sklearn-color-unfitted-level-0);\n",
       "}\n",
       "\n",
       "#sk-container-id-1 div.sk-toggleable__content.fitted pre {\n",
       "  /* unfitted */\n",
       "  background-color: var(--sklearn-color-fitted-level-0);\n",
       "}\n",
       "\n",
       "#sk-container-id-1 input.sk-toggleable__control:checked~div.sk-toggleable__content {\n",
       "  /* Expand drop-down */\n",
       "  max-height: 200px;\n",
       "  max-width: 100%;\n",
       "  overflow: auto;\n",
       "}\n",
       "\n",
       "#sk-container-id-1 input.sk-toggleable__control:checked~label.sk-toggleable__label-arrow:before {\n",
       "  content: \"▾\";\n",
       "}\n",
       "\n",
       "/* Pipeline/ColumnTransformer-specific style */\n",
       "\n",
       "#sk-container-id-1 div.sk-label input.sk-toggleable__control:checked~label.sk-toggleable__label {\n",
       "  color: var(--sklearn-color-text);\n",
       "  background-color: var(--sklearn-color-unfitted-level-2);\n",
       "}\n",
       "\n",
       "#sk-container-id-1 div.sk-label.fitted input.sk-toggleable__control:checked~label.sk-toggleable__label {\n",
       "  background-color: var(--sklearn-color-fitted-level-2);\n",
       "}\n",
       "\n",
       "/* Estimator-specific style */\n",
       "\n",
       "/* Colorize estimator box */\n",
       "#sk-container-id-1 div.sk-estimator input.sk-toggleable__control:checked~label.sk-toggleable__label {\n",
       "  /* unfitted */\n",
       "  background-color: var(--sklearn-color-unfitted-level-2);\n",
       "}\n",
       "\n",
       "#sk-container-id-1 div.sk-estimator.fitted input.sk-toggleable__control:checked~label.sk-toggleable__label {\n",
       "  /* fitted */\n",
       "  background-color: var(--sklearn-color-fitted-level-2);\n",
       "}\n",
       "\n",
       "#sk-container-id-1 div.sk-label label.sk-toggleable__label,\n",
       "#sk-container-id-1 div.sk-label label {\n",
       "  /* The background is the default theme color */\n",
       "  color: var(--sklearn-color-text-on-default-background);\n",
       "}\n",
       "\n",
       "/* On hover, darken the color of the background */\n",
       "#sk-container-id-1 div.sk-label:hover label.sk-toggleable__label {\n",
       "  color: var(--sklearn-color-text);\n",
       "  background-color: var(--sklearn-color-unfitted-level-2);\n",
       "}\n",
       "\n",
       "/* Label box, darken color on hover, fitted */\n",
       "#sk-container-id-1 div.sk-label.fitted:hover label.sk-toggleable__label.fitted {\n",
       "  color: var(--sklearn-color-text);\n",
       "  background-color: var(--sklearn-color-fitted-level-2);\n",
       "}\n",
       "\n",
       "/* Estimator label */\n",
       "\n",
       "#sk-container-id-1 div.sk-label label {\n",
       "  font-family: monospace;\n",
       "  font-weight: bold;\n",
       "  display: inline-block;\n",
       "  line-height: 1.2em;\n",
       "}\n",
       "\n",
       "#sk-container-id-1 div.sk-label-container {\n",
       "  text-align: center;\n",
       "}\n",
       "\n",
       "/* Estimator-specific */\n",
       "#sk-container-id-1 div.sk-estimator {\n",
       "  font-family: monospace;\n",
       "  border: 1px dotted var(--sklearn-color-border-box);\n",
       "  border-radius: 0.25em;\n",
       "  box-sizing: border-box;\n",
       "  margin-bottom: 0.5em;\n",
       "  /* unfitted */\n",
       "  background-color: var(--sklearn-color-unfitted-level-0);\n",
       "}\n",
       "\n",
       "#sk-container-id-1 div.sk-estimator.fitted {\n",
       "  /* fitted */\n",
       "  background-color: var(--sklearn-color-fitted-level-0);\n",
       "}\n",
       "\n",
       "/* on hover */\n",
       "#sk-container-id-1 div.sk-estimator:hover {\n",
       "  /* unfitted */\n",
       "  background-color: var(--sklearn-color-unfitted-level-2);\n",
       "}\n",
       "\n",
       "#sk-container-id-1 div.sk-estimator.fitted:hover {\n",
       "  /* fitted */\n",
       "  background-color: var(--sklearn-color-fitted-level-2);\n",
       "}\n",
       "\n",
       "/* Specification for estimator info (e.g. \"i\" and \"?\") */\n",
       "\n",
       "/* Common style for \"i\" and \"?\" */\n",
       "\n",
       ".sk-estimator-doc-link,\n",
       "a:link.sk-estimator-doc-link,\n",
       "a:visited.sk-estimator-doc-link {\n",
       "  float: right;\n",
       "  font-size: smaller;\n",
       "  line-height: 1em;\n",
       "  font-family: monospace;\n",
       "  background-color: var(--sklearn-color-background);\n",
       "  border-radius: 1em;\n",
       "  height: 1em;\n",
       "  width: 1em;\n",
       "  text-decoration: none !important;\n",
       "  margin-left: 1ex;\n",
       "  /* unfitted */\n",
       "  border: var(--sklearn-color-unfitted-level-1) 1pt solid;\n",
       "  color: var(--sklearn-color-unfitted-level-1);\n",
       "}\n",
       "\n",
       ".sk-estimator-doc-link.fitted,\n",
       "a:link.sk-estimator-doc-link.fitted,\n",
       "a:visited.sk-estimator-doc-link.fitted {\n",
       "  /* fitted */\n",
       "  border: var(--sklearn-color-fitted-level-1) 1pt solid;\n",
       "  color: var(--sklearn-color-fitted-level-1);\n",
       "}\n",
       "\n",
       "/* On hover */\n",
       "div.sk-estimator:hover .sk-estimator-doc-link:hover,\n",
       ".sk-estimator-doc-link:hover,\n",
       "div.sk-label-container:hover .sk-estimator-doc-link:hover,\n",
       ".sk-estimator-doc-link:hover {\n",
       "  /* unfitted */\n",
       "  background-color: var(--sklearn-color-unfitted-level-3);\n",
       "  color: var(--sklearn-color-background);\n",
       "  text-decoration: none;\n",
       "}\n",
       "\n",
       "div.sk-estimator.fitted:hover .sk-estimator-doc-link.fitted:hover,\n",
       ".sk-estimator-doc-link.fitted:hover,\n",
       "div.sk-label-container:hover .sk-estimator-doc-link.fitted:hover,\n",
       ".sk-estimator-doc-link.fitted:hover {\n",
       "  /* fitted */\n",
       "  background-color: var(--sklearn-color-fitted-level-3);\n",
       "  color: var(--sklearn-color-background);\n",
       "  text-decoration: none;\n",
       "}\n",
       "\n",
       "/* Span, style for the box shown on hovering the info icon */\n",
       ".sk-estimator-doc-link span {\n",
       "  display: none;\n",
       "  z-index: 9999;\n",
       "  position: relative;\n",
       "  font-weight: normal;\n",
       "  right: .2ex;\n",
       "  padding: .5ex;\n",
       "  margin: .5ex;\n",
       "  width: min-content;\n",
       "  min-width: 20ex;\n",
       "  max-width: 50ex;\n",
       "  color: var(--sklearn-color-text);\n",
       "  box-shadow: 2pt 2pt 4pt #999;\n",
       "  /* unfitted */\n",
       "  background: var(--sklearn-color-unfitted-level-0);\n",
       "  border: .5pt solid var(--sklearn-color-unfitted-level-3);\n",
       "}\n",
       "\n",
       ".sk-estimator-doc-link.fitted span {\n",
       "  /* fitted */\n",
       "  background: var(--sklearn-color-fitted-level-0);\n",
       "  border: var(--sklearn-color-fitted-level-3);\n",
       "}\n",
       "\n",
       ".sk-estimator-doc-link:hover span {\n",
       "  display: block;\n",
       "}\n",
       "\n",
       "/* \"?\"-specific style due to the `<a>` HTML tag */\n",
       "\n",
       "#sk-container-id-1 a.estimator_doc_link {\n",
       "  float: right;\n",
       "  font-size: 1rem;\n",
       "  line-height: 1em;\n",
       "  font-family: monospace;\n",
       "  background-color: var(--sklearn-color-background);\n",
       "  border-radius: 1rem;\n",
       "  height: 1rem;\n",
       "  width: 1rem;\n",
       "  text-decoration: none;\n",
       "  /* unfitted */\n",
       "  color: var(--sklearn-color-unfitted-level-1);\n",
       "  border: var(--sklearn-color-unfitted-level-1) 1pt solid;\n",
       "}\n",
       "\n",
       "#sk-container-id-1 a.estimator_doc_link.fitted {\n",
       "  /* fitted */\n",
       "  border: var(--sklearn-color-fitted-level-1) 1pt solid;\n",
       "  color: var(--sklearn-color-fitted-level-1);\n",
       "}\n",
       "\n",
       "/* On hover */\n",
       "#sk-container-id-1 a.estimator_doc_link:hover {\n",
       "  /* unfitted */\n",
       "  background-color: var(--sklearn-color-unfitted-level-3);\n",
       "  color: var(--sklearn-color-background);\n",
       "  text-decoration: none;\n",
       "}\n",
       "\n",
       "#sk-container-id-1 a.estimator_doc_link.fitted:hover {\n",
       "  /* fitted */\n",
       "  background-color: var(--sklearn-color-fitted-level-3);\n",
       "}\n",
       "</style><div id=\"sk-container-id-1\" class=\"sk-top-container\"><div class=\"sk-text-repr-fallback\"><pre>DBSCAN()</pre><b>In a Jupyter environment, please rerun this cell to show the HTML representation or trust the notebook. <br />On GitHub, the HTML representation is unable to render, please try loading this page with nbviewer.org.</b></div><div class=\"sk-container\" hidden><div class=\"sk-item\"><div class=\"sk-estimator fitted sk-toggleable\"><input class=\"sk-toggleable__control sk-hidden--visually\" id=\"sk-estimator-id-1\" type=\"checkbox\" checked><label for=\"sk-estimator-id-1\" class=\"sk-toggleable__label fitted sk-toggleable__label-arrow fitted\">&nbsp;&nbsp;DBSCAN<a class=\"sk-estimator-doc-link fitted\" rel=\"noreferrer\" target=\"_blank\" href=\"https://scikit-learn.org/1.5/modules/generated/sklearn.cluster.DBSCAN.html\">?<span>Documentation for DBSCAN</span></a><span class=\"sk-estimator-doc-link fitted\">i<span>Fitted</span></span></label><div class=\"sk-toggleable__content fitted\"><pre>DBSCAN()</pre></div> </div></div></div></div>"
      ],
      "text/plain": [
       "DBSCAN()"
      ]
     },
     "execution_count": 53,
     "metadata": {},
     "output_type": "execute_result"
    }
   ],
   "source": [
    "dbscan = DBSCAN(eps=0.5, min_samples=5)\n",
    "dbscan.fit(scaled_train_df)"
   ]
  },
  {
   "cell_type": "code",
   "execution_count": 54,
   "metadata": {},
   "outputs": [],
   "source": [
    "import matplotlib.pyplot as plt"
   ]
  },
  {
   "cell_type": "code",
   "execution_count": 55,
   "metadata": {},
   "outputs": [
    {
     "data": {
      "text/plain": [
       "array([ 0,  1,  2, ..., 85, 86, 87])"
      ]
     },
     "execution_count": 55,
     "metadata": {},
     "output_type": "execute_result"
    }
   ],
   "source": [
    "dbscan.labels_"
   ]
  },
  {
   "cell_type": "code",
   "execution_count": 56,
   "metadata": {},
   "outputs": [
    {
     "data": {
      "image/png": "[encoded data removed]",
      "text/plain": [
       "<Figure size 1000x1000 with 1 Axes>"
      ]
     },
     "metadata": {},
     "output_type": "display_data"
    }
   ],
   "source": [
    "plt.figure(figsize=(10, 10))\n",
    "plt.scatter(scaled_train_df[:, 0], scaled_train_df[:, 1], c=dbscan.labels_)\n",
    "plt.show()"
   ]
  },
  {
   "cell_type": "code",
   "execution_count": 57,
   "metadata": {},
   "outputs": [],
   "source": [
    "train_df['cluster'] = dbscan.labels_"
   ]
  },
  {
   "cell_type": "code",
   "execution_count": 58,
   "metadata": {},
   "outputs": [
    {
     "data": {
      "text/plain": [
       "88"
      ]
     },
     "execution_count": 58,
     "metadata": {},
     "output_type": "execute_result"
    }
   ],
   "source": [
    "train_df['cluster'].nunique()"
   ]
  },
  {
   "cell_type": "code",
   "execution_count": 59,
   "metadata": {},
   "outputs": [],
   "source": [
    "test_df['cluster'] = dbscan.fit_predict(scaler.transform(test_df[cluster_cols]))"
   ]
  },
  {
   "cell_type": "code",
   "execution_count": 60,
   "metadata": {},
   "outputs": [
    {
     "data": {
      "text/plain": [
       "cluster\n",
       "0     2557\n",
       "57    2557\n",
       "65    2557\n",
       "64    2557\n",
       "63    2557\n",
       "      ... \n",
       "46    2494\n",
       "9     2177\n",
       "53    1911\n",
       "4     1249\n",
       "48    1199\n",
       "Name: count, Length: 88, dtype: int64"
      ]
     },
     "execution_count": 60,
     "metadata": {},
     "output_type": "execute_result"
    }
   ],
   "source": [
    "train_df['cluster'].value_counts()"
   ]
  },
  {
   "cell_type": "code",
   "execution_count": 61,
   "metadata": {},
   "outputs": [
    {
     "data": {
      "text/plain": [
       "cluster\n",
       "0     1095\n",
       "67    1095\n",
       "65    1095\n",
       "64    1095\n",
       "63    1095\n",
       "      ... \n",
       "28    1095\n",
       "27    1095\n",
       "26    1095\n",
       "25    1095\n",
       "89    1095\n",
       "Name: count, Length: 90, dtype: int64"
      ]
     },
     "execution_count": 61,
     "metadata": {},
     "output_type": "execute_result"
    }
   ],
   "source": [
    "test_df['cluster'].value_counts()"
   ]
  },
  {
   "cell_type": "code",
   "execution_count": 62,
   "metadata": {},
   "outputs": [],
   "source": [
    "train_df['mean_num_sold_by_cluster'] = train_df.groupby('cluster')['num_sold'].transform('mean')\n",
    "train_df['median_num_sold_by_cluster'] = train_df.groupby('cluster')['num_sold'].transform('median')\n",
    "train_df['std_num_sold_by_cluster'] = train_df.groupby('cluster')['num_sold'].transform('std')\n",
    "train_df['min_num_sold_by_cluster'] = train_df.groupby('cluster')['num_sold'].transform('min')\n",
    "train_df['max_num_sold_by_cluster'] = train_df.groupby('cluster')['num_sold'].transform('max')"
   ]
  },
  {
   "cell_type": "code",
   "execution_count": 63,
   "metadata": {},
   "outputs": [],
   "source": [
    "for i, group in test_df.groupby('cluster'):\n",
    "    test_df.loc[group.index, 'mean_num_sold_by_cluster'] = train_df.loc[train_df['cluster'] == i, 'num_sold'].mean()\n",
    "    test_df.loc[group.index, 'median_num_sold_by_cluster'] = train_df.loc[train_df['cluster'] == i, 'num_sold'].median()\n",
    "    test_df.loc[group.index, 'std_num_sold_by_cluster'] = train_df.loc[train_df['cluster'] == i, 'num_sold'].std()\n",
    "    test_df.loc[group.index, 'max_num_sold_by_cluster'] = train_df.loc[train_df['cluster'] == i, 'num_sold'].max()\n",
    "    test_df.loc[group.index, 'min_num_sold_by_cluster'] = train_df.loc[train_df['cluster'] == i, 'num_sold'].min()"
   ]
  },
  {
   "cell_type": "code",
   "execution_count": 64,
   "metadata": {},
   "outputs": [],
   "source": [
    "train_df.drop(columns=['date', 'country', 'product', 'store'], inplace=True)"
   ]
  },
  {
   "cell_type": "code",
   "execution_count": 65,
   "metadata": {},
   "outputs": [],
   "source": [
    "test_df.drop(columns=['date', 'country', 'product', 'store'], inplace=True)"
   ]
  },
  {
   "cell_type": "code",
   "execution_count": 66,
   "metadata": {},
   "outputs": [],
   "source": [
    "from sklearn.model_selection import train_test_split"
   ]
  },
  {
   "cell_type": "code",
   "execution_count": 67,
   "metadata": {},
   "outputs": [
    {
     "data": {
      "text/plain": [
       "177007"
      ]
     },
     "execution_count": 67,
     "metadata": {},
     "output_type": "execute_result"
    }
   ],
   "source": [
    "int(0.8 * len(train_df))"
   ]
  },
  {
   "cell_type": "code",
   "execution_count": 68,
   "metadata": {},
   "outputs": [
    {
     "data": {
      "text/plain": [
       "221259"
      ]
     },
     "execution_count": 68,
     "metadata": {},
     "output_type": "execute_result"
    }
   ],
   "source": [
    "len(train_df)"
   ]
  },
  {
   "cell_type": "code",
   "execution_count": 69,
   "metadata": {},
   "outputs": [],
   "source": [
    "train = train_df.iloc[: int(0.8 * len(train_df))].copy()\n",
    "val = train_df.iloc[int(0.8 * len(train_df)): ].copy()\n",
    "X_train, y_train = train.drop(columns=['num_sold']), train['num_sold']\n",
    "X_val, y_val = val.drop(columns=['num_sold']), val['num_sold']"
   ]
  },
  {
   "cell_type": "code",
   "execution_count": 70,
   "metadata": {},
   "outputs": [
    {
     "data": {
      "text/plain": [
       "((177007, 51), (44252, 51))"
      ]
     },
     "execution_count": 70,
     "metadata": {},
     "output_type": "execute_result"
    }
   ],
   "source": [
    "train.shape, val.shape"
   ]
  },
  {
   "cell_type": "code",
   "execution_count": 71,
   "metadata": {},
   "outputs": [],
   "source": [
    "import xgboost as xgb"
   ]
  },
  {
   "cell_type": "code",
   "execution_count": 72,
   "metadata": {},
   "outputs": [],
   "source": [
    "import seaborn as sns"
   ]
  },
  {
   "cell_type": "code",
   "execution_count": 73,
   "metadata": {},
   "outputs": [
    {
     "data": {
      "image/png": "[encoded data removed]",
      "text/plain": [
       "<Figure size 2000x1000 with 1 Axes>"
      ]
     },
     "metadata": {},
     "output_type": "display_data"
    }
   ],
   "source": [
    "plt.figure(figsize=(20, 10))\n",
    "sns.histplot(train_df['num_sold'])\n",
    "plt.xlabel(\"Volume of Sales\")\n",
    "plt.ylabel(\"Count\")\n",
    "plt.title(\"Distribution of the Sales\")\n",
    "plt.show()"
   ]
  },
  {
   "cell_type": "code",
   "execution_count": 121,
   "metadata": {},
   "outputs": [],
   "source": [
    "# xgb params\n",
    "params = {\n",
    "    'objective': 'reg:squarederror',\n",
    "    \"max_depth\": 10,\n",
    "    \"eta\": 0.05,\n",
    "    \"colsample_bytree\": 0.8,\n",
    "    \"subsample\": 0.8,\n",
    "    \"alpha\": 0.1,\n",
    "    \"lambda\": 0.1,\n",
    "    \"eval_metric\": [\"rmse\", 'mape', 'mae']  # Optional, can use other metrics for evaluation.\n",
    "}"
   ]
  },
  {
   "cell_type": "code",
   "execution_count": 122,
   "metadata": {},
   "outputs": [],
   "source": [
    "import numpy as np"
   ]
  },
  {
   "cell_type": "code",
   "execution_count": 151,
   "metadata": {},
   "outputs": [],
   "source": [
    "dtrain = xgb.DMatrix(data=X_train.values, label=np.log1p(y_train.values))\n",
    "dval = xgb.DMatrix(data=X_val.values, label=np.log1p(y_val.values))"
   ]
  },
  {
   "cell_type": "code",
   "execution_count": 152,
   "metadata": {},
   "outputs": [],
   "source": [
    "dtrain_full = xgb.DMatrix(data=train_df.drop(columns=['num_sold']).values, label=np.log1p(train_df['num_sold'].values))"
   ]
  },
  {
   "cell_type": "code",
   "execution_count": 153,
   "metadata": {},
   "outputs": [],
   "source": [
    "new_test_df = test_df.drop(columns=['id', 'num_sold']).values"
   ]
  },
  {
   "cell_type": "code",
   "execution_count": 154,
   "metadata": {},
   "outputs": [],
   "source": [
    "dtest_full = xgb.DMatrix(data=new_test_df)"
   ]
  },
  {
   "cell_type": "code",
   "execution_count": 155,
   "metadata": {},
   "outputs": [
    {
     "name": "stdout",
     "output_type": "stream",
     "text": [
      "[0]\tTrain-rmse:1.45140\tTrain-mape:0.27132\tTrain-mae:1.12820\tVal-rmse:1.39762\tVal-mape:0.26109\tVal-mae:1.07588\n",
      "[10]\tTrain-rmse:0.87318\tTrain-mape:0.16298\tTrain-mae:0.67816\tVal-rmse:0.82700\tVal-mape:0.15473\tVal-mae:0.64001\n",
      "[20]\tTrain-rmse:0.52852\tTrain-mape:0.09835\tTrain-mae:0.41028\tVal-rmse:0.49008\tVal-mape:0.09175\tVal-mae:0.38225\n",
      "[30]\tTrain-rmse:0.32435\tTrain-mape:0.06003\tTrain-mae:0.25233\tVal-rmse:0.29353\tVal-mape:0.05467\tVal-mae:0.23218\n",
      "[40]\tTrain-rmse:0.20462\tTrain-mape:0.03745\tTrain-mae:0.16011\tVal-rmse:0.18368\tVal-mape:0.03331\tVal-mae:0.14756\n",
      "[50]\tTrain-rmse:0.13624\tTrain-mape:0.02435\tTrain-mae:0.10763\tVal-rmse:0.12956\tVal-mape:0.02192\tVal-mae:0.10411\n",
      "[60]\tTrain-rmse:0.09892\tTrain-mape:0.01687\tTrain-mae:0.07842\tVal-rmse:0.10478\tVal-mape:0.01623\tVal-mae:0.08321\n",
      "[70]\tTrain-rmse:0.07868\tTrain-mape:0.01267\tTrain-mae:0.06221\tVal-rmse:0.09508\tVal-mape:0.01400\tVal-mae:0.07481\n",
      "[80]\tTrain-rmse:0.06834\tTrain-mape:0.01052\tTrain-mae:0.05391\tVal-rmse:0.09117\tVal-mape:0.01331\tVal-mae:0.07161\n",
      "[90]\tTrain-rmse:0.06307\tTrain-mape:0.00947\tTrain-mae:0.04971\tVal-rmse:0.08955\tVal-mape:0.01306\tVal-mae:0.07021\n",
      "[100]\tTrain-rmse:0.06008\tTrain-mape:0.00891\tTrain-mae:0.04733\tVal-rmse:0.08867\tVal-mape:0.01295\tVal-mae:0.06940\n",
      "[110]\tTrain-rmse:0.05805\tTrain-mape:0.00856\tTrain-mae:0.04570\tVal-rmse:0.08768\tVal-mape:0.01283\tVal-mae:0.06850\n",
      "[120]\tTrain-rmse:0.05697\tTrain-mape:0.00837\tTrain-mae:0.04485\tVal-rmse:0.08762\tVal-mape:0.01283\tVal-mae:0.06837\n",
      "[130]\tTrain-rmse:0.05583\tTrain-mape:0.00820\tTrain-mae:0.04397\tVal-rmse:0.08719\tVal-mape:0.01278\tVal-mae:0.06796\n",
      "[140]\tTrain-rmse:0.05501\tTrain-mape:0.00807\tTrain-mae:0.04332\tVal-rmse:0.08705\tVal-mape:0.01277\tVal-mae:0.06782\n",
      "[150]\tTrain-rmse:0.05418\tTrain-mape:0.00796\tTrain-mae:0.04269\tVal-rmse:0.08659\tVal-mape:0.01271\tVal-mae:0.06741\n",
      "[160]\tTrain-rmse:0.05352\tTrain-mape:0.00787\tTrain-mae:0.04220\tVal-rmse:0.08646\tVal-mape:0.01270\tVal-mae:0.06725\n",
      "[170]\tTrain-rmse:0.05268\tTrain-mape:0.00777\tTrain-mae:0.04161\tVal-rmse:0.08659\tVal-mape:0.01271\tVal-mae:0.06729\n",
      "[180]\tTrain-rmse:0.05208\tTrain-mape:0.00769\tTrain-mae:0.04117\tVal-rmse:0.08672\tVal-mape:0.01272\tVal-mae:0.06734\n",
      "[190]\tTrain-rmse:0.05150\tTrain-mape:0.00762\tTrain-mae:0.04074\tVal-rmse:0.08673\tVal-mape:0.01272\tVal-mae:0.06730\n",
      "[200]\tTrain-rmse:0.05105\tTrain-mape:0.00757\tTrain-mae:0.04042\tVal-rmse:0.08672\tVal-mape:0.01271\tVal-mae:0.06725\n",
      "[210]\tTrain-rmse:0.05057\tTrain-mape:0.00750\tTrain-mae:0.04007\tVal-rmse:0.08680\tVal-mape:0.01272\tVal-mae:0.06728\n",
      "[215]\tTrain-rmse:0.05039\tTrain-mape:0.00748\tTrain-mae:0.03993\tVal-rmse:0.08684\tVal-mape:0.01273\tVal-mae:0.06729\n"
     ]
    }
   ],
   "source": [
    "xgb_model = xgb.train(\n",
    "        params,\n",
    "        dtrain,\n",
    "        num_boost_round=1000,\n",
    "        evals=[(dtrain, \"Train\"),(dval, \"Val\")],\n",
    "        early_stopping_rounds=50,\n",
    "        verbose_eval=10\n",
    "    )"
   ]
  },
  {
   "cell_type": "code",
   "execution_count": 156,
   "metadata": {},
   "outputs": [
    {
     "name": "stdout",
     "output_type": "stream",
     "text": [
      "[0]\tTrain-rmse:1.44177\tTrain-mape:0.26943\tTrain-mae:1.12304\n",
      "[1]\tTrain-rmse:1.37014\tTrain-mape:0.25603\tTrain-mae:1.06725\n",
      "[2]\tTrain-rmse:1.30229\tTrain-mape:0.24331\tTrain-mae:1.01427\n",
      "[3]\tTrain-rmse:1.23766\tTrain-mape:0.23122\tTrain-mae:0.96395\n",
      "[4]\tTrain-rmse:1.17628\tTrain-mape:0.21974\tTrain-mae:0.91616\n",
      "[5]\tTrain-rmse:1.11800\tTrain-mape:0.20883\tTrain-mae:0.87078\n",
      "[6]\tTrain-rmse:1.06264\tTrain-mape:0.19847\tTrain-mae:0.82767\n",
      "[7]\tTrain-rmse:1.01008\tTrain-mape:0.18864\tTrain-mae:0.78675\n",
      "[8]\tTrain-rmse:0.96015\tTrain-mape:0.17929\tTrain-mae:0.74788\n",
      "[9]\tTrain-rmse:0.91275\tTrain-mape:0.17042\tTrain-mae:0.71098\n",
      "[10]\tTrain-rmse:0.86773\tTrain-mape:0.16199\tTrain-mae:0.67593\n",
      "[11]\tTrain-rmse:0.82499\tTrain-mape:0.15399\tTrain-mae:0.64264\n",
      "[12]\tTrain-rmse:0.78440\tTrain-mape:0.14638\tTrain-mae:0.61100\n",
      "[13]\tTrain-rmse:0.74586\tTrain-mape:0.13916\tTrain-mae:0.58100\n",
      "[14]\tTrain-rmse:0.70935\tTrain-mape:0.13231\tTrain-mae:0.55248\n",
      "[15]\tTrain-rmse:0.67462\tTrain-mape:0.12580\tTrain-mae:0.52546\n",
      "[16]\tTrain-rmse:0.64163\tTrain-mape:0.11961\tTrain-mae:0.49976\n",
      "[17]\tTrain-rmse:0.61032\tTrain-mape:0.11374\tTrain-mae:0.47540\n",
      "[18]\tTrain-rmse:0.58058\tTrain-mape:0.10816\tTrain-mae:0.45220\n",
      "[19]\tTrain-rmse:0.55236\tTrain-mape:0.10287\tTrain-mae:0.43027\n",
      "[20]\tTrain-rmse:0.52559\tTrain-mape:0.09785\tTrain-mae:0.40942\n",
      "[21]\tTrain-rmse:0.50020\tTrain-mape:0.09309\tTrain-mae:0.38973\n",
      "[22]\tTrain-rmse:0.47610\tTrain-mape:0.08857\tTrain-mae:0.37098\n",
      "[23]\tTrain-rmse:0.45328\tTrain-mape:0.08430\tTrain-mae:0.35330\n",
      "[24]\tTrain-rmse:0.43158\tTrain-mape:0.08023\tTrain-mae:0.33648\n",
      "[25]\tTrain-rmse:0.41098\tTrain-mape:0.07637\tTrain-mae:0.32056\n",
      "[26]\tTrain-rmse:0.39146\tTrain-mape:0.07271\tTrain-mae:0.30545\n",
      "[27]\tTrain-rmse:0.37293\tTrain-mape:0.06924\tTrain-mae:0.29114\n",
      "[28]\tTrain-rmse:0.35537\tTrain-mape:0.06594\tTrain-mae:0.27753\n",
      "[29]\tTrain-rmse:0.33873\tTrain-mape:0.06282\tTrain-mae:0.26471\n",
      "[30]\tTrain-rmse:0.32289\tTrain-mape:0.05984\tTrain-mae:0.25240\n",
      "[31]\tTrain-rmse:0.30794\tTrain-mape:0.05703\tTrain-mae:0.24083\n",
      "[32]\tTrain-rmse:0.29363\tTrain-mape:0.05432\tTrain-mae:0.22966\n",
      "[33]\tTrain-rmse:0.28020\tTrain-mape:0.05179\tTrain-mae:0.21926\n",
      "[34]\tTrain-rmse:0.26749\tTrain-mape:0.04940\tTrain-mae:0.20948\n",
      "[35]\tTrain-rmse:0.25545\tTrain-mape:0.04713\tTrain-mae:0.20020\n",
      "[36]\tTrain-rmse:0.24405\tTrain-mape:0.04497\tTrain-mae:0.19139\n",
      "[37]\tTrain-rmse:0.23326\tTrain-mape:0.04293\tTrain-mae:0.18308\n",
      "[38]\tTrain-rmse:0.22298\tTrain-mape:0.04098\tTrain-mae:0.17509\n",
      "[39]\tTrain-rmse:0.21332\tTrain-mape:0.03915\tTrain-mae:0.16761\n",
      "[40]\tTrain-rmse:0.20417\tTrain-mape:0.03741\tTrain-mae:0.16054\n",
      "[41]\tTrain-rmse:0.19557\tTrain-mape:0.03577\tTrain-mae:0.15392\n",
      "[42]\tTrain-rmse:0.18725\tTrain-mape:0.03419\tTrain-mae:0.14747\n",
      "[43]\tTrain-rmse:0.17943\tTrain-mape:0.03269\tTrain-mae:0.14139\n",
      "[44]\tTrain-rmse:0.17213\tTrain-mape:0.03130\tTrain-mae:0.13579\n",
      "[45]\tTrain-rmse:0.16525\tTrain-mape:0.02997\tTrain-mae:0.13045\n",
      "[46]\tTrain-rmse:0.15867\tTrain-mape:0.02870\tTrain-mae:0.12531\n",
      "[47]\tTrain-rmse:0.15253\tTrain-mape:0.02751\tTrain-mae:0.12050\n",
      "[48]\tTrain-rmse:0.14676\tTrain-mape:0.02638\tTrain-mae:0.11601\n",
      "[49]\tTrain-rmse:0.14133\tTrain-mape:0.02533\tTrain-mae:0.11183\n",
      "[50]\tTrain-rmse:0.13639\tTrain-mape:0.02435\tTrain-mae:0.10800\n",
      "[51]\tTrain-rmse:0.13160\tTrain-mape:0.02341\tTrain-mae:0.10428\n",
      "[52]\tTrain-rmse:0.12710\tTrain-mape:0.02251\tTrain-mae:0.10075\n",
      "[53]\tTrain-rmse:0.12284\tTrain-mape:0.02167\tTrain-mae:0.09743\n",
      "[54]\tTrain-rmse:0.11884\tTrain-mape:0.02087\tTrain-mae:0.09432\n",
      "[55]\tTrain-rmse:0.11511\tTrain-mape:0.02012\tTrain-mae:0.09140\n",
      "[56]\tTrain-rmse:0.11153\tTrain-mape:0.01940\tTrain-mae:0.08858\n",
      "[57]\tTrain-rmse:0.10817\tTrain-mape:0.01872\tTrain-mae:0.08589\n",
      "[58]\tTrain-rmse:0.10495\tTrain-mape:0.01806\tTrain-mae:0.08332\n",
      "[59]\tTrain-rmse:0.10204\tTrain-mape:0.01747\tTrain-mae:0.08100\n",
      "[60]\tTrain-rmse:0.09931\tTrain-mape:0.01690\tTrain-mae:0.07884\n",
      "[61]\tTrain-rmse:0.09662\tTrain-mape:0.01636\tTrain-mae:0.07670\n",
      "[62]\tTrain-rmse:0.09421\tTrain-mape:0.01585\tTrain-mae:0.07475\n",
      "[63]\tTrain-rmse:0.09199\tTrain-mape:0.01539\tTrain-mae:0.07299\n",
      "[64]\tTrain-rmse:0.08983\tTrain-mape:0.01494\tTrain-mae:0.07126\n",
      "[65]\tTrain-rmse:0.08771\tTrain-mape:0.01451\tTrain-mae:0.06955\n",
      "[66]\tTrain-rmse:0.08567\tTrain-mape:0.01409\tTrain-mae:0.06790\n",
      "[67]\tTrain-rmse:0.08378\tTrain-mape:0.01371\tTrain-mae:0.06637\n",
      "[68]\tTrain-rmse:0.08212\tTrain-mape:0.01336\tTrain-mae:0.06502\n",
      "[69]\tTrain-rmse:0.08043\tTrain-mape:0.01302\tTrain-mae:0.06366\n",
      "[70]\tTrain-rmse:0.07888\tTrain-mape:0.01270\tTrain-mae:0.06242\n",
      "[71]\tTrain-rmse:0.07755\tTrain-mape:0.01242\tTrain-mae:0.06134\n",
      "[72]\tTrain-rmse:0.07638\tTrain-mape:0.01217\tTrain-mae:0.06040\n",
      "[73]\tTrain-rmse:0.07511\tTrain-mape:0.01191\tTrain-mae:0.05939\n",
      "[74]\tTrain-rmse:0.07396\tTrain-mape:0.01168\tTrain-mae:0.05846\n",
      "[75]\tTrain-rmse:0.07298\tTrain-mape:0.01147\tTrain-mae:0.05768\n",
      "[76]\tTrain-rmse:0.07215\tTrain-mape:0.01129\tTrain-mae:0.05701\n",
      "[77]\tTrain-rmse:0.07134\tTrain-mape:0.01111\tTrain-mae:0.05636\n",
      "[78]\tTrain-rmse:0.07050\tTrain-mape:0.01094\tTrain-mae:0.05568\n",
      "[79]\tTrain-rmse:0.06977\tTrain-mape:0.01079\tTrain-mae:0.05510\n",
      "[80]\tTrain-rmse:0.06916\tTrain-mape:0.01065\tTrain-mae:0.05461\n",
      "[81]\tTrain-rmse:0.06857\tTrain-mape:0.01052\tTrain-mae:0.05414\n",
      "[82]\tTrain-rmse:0.06800\tTrain-mape:0.01040\tTrain-mae:0.05368\n",
      "[83]\tTrain-rmse:0.06749\tTrain-mape:0.01029\tTrain-mae:0.05326\n",
      "[84]\tTrain-rmse:0.06688\tTrain-mape:0.01017\tTrain-mae:0.05277\n",
      "[85]\tTrain-rmse:0.06638\tTrain-mape:0.01007\tTrain-mae:0.05237\n",
      "[86]\tTrain-rmse:0.06586\tTrain-mape:0.00997\tTrain-mae:0.05195\n",
      "[87]\tTrain-rmse:0.06543\tTrain-mape:0.00988\tTrain-mae:0.05161\n",
      "[88]\tTrain-rmse:0.06504\tTrain-mape:0.00980\tTrain-mae:0.05130\n",
      "[89]\tTrain-rmse:0.06462\tTrain-mape:0.00972\tTrain-mae:0.05096\n",
      "[90]\tTrain-rmse:0.06417\tTrain-mape:0.00963\tTrain-mae:0.05060\n",
      "[91]\tTrain-rmse:0.06383\tTrain-mape:0.00956\tTrain-mae:0.05033\n",
      "[92]\tTrain-rmse:0.06346\tTrain-mape:0.00949\tTrain-mae:0.05004\n",
      "[93]\tTrain-rmse:0.06319\tTrain-mape:0.00944\tTrain-mae:0.04982\n",
      "[94]\tTrain-rmse:0.06280\tTrain-mape:0.00937\tTrain-mae:0.04951\n",
      "[95]\tTrain-rmse:0.06249\tTrain-mape:0.00931\tTrain-mae:0.04926\n",
      "[96]\tTrain-rmse:0.06226\tTrain-mape:0.00926\tTrain-mae:0.04908\n",
      "[97]\tTrain-rmse:0.06194\tTrain-mape:0.00921\tTrain-mae:0.04883\n",
      "[98]\tTrain-rmse:0.06168\tTrain-mape:0.00916\tTrain-mae:0.04863\n",
      "[99]\tTrain-rmse:0.06142\tTrain-mape:0.00912\tTrain-mae:0.04842\n",
      "[100]\tTrain-rmse:0.06121\tTrain-mape:0.00907\tTrain-mae:0.04825\n",
      "[101]\tTrain-rmse:0.06100\tTrain-mape:0.00904\tTrain-mae:0.04809\n",
      "[102]\tTrain-rmse:0.06072\tTrain-mape:0.00899\tTrain-mae:0.04786\n",
      "[103]\tTrain-rmse:0.06054\tTrain-mape:0.00896\tTrain-mae:0.04772\n",
      "[104]\tTrain-rmse:0.06036\tTrain-mape:0.00892\tTrain-mae:0.04757\n",
      "[105]\tTrain-rmse:0.06016\tTrain-mape:0.00889\tTrain-mae:0.04741\n",
      "[106]\tTrain-rmse:0.05998\tTrain-mape:0.00886\tTrain-mae:0.04727\n",
      "[107]\tTrain-rmse:0.05982\tTrain-mape:0.00883\tTrain-mae:0.04714\n",
      "[108]\tTrain-rmse:0.05965\tTrain-mape:0.00880\tTrain-mae:0.04700\n",
      "[109]\tTrain-rmse:0.05950\tTrain-mape:0.00878\tTrain-mae:0.04688\n",
      "[110]\tTrain-rmse:0.05929\tTrain-mape:0.00874\tTrain-mae:0.04671\n",
      "[111]\tTrain-rmse:0.05905\tTrain-mape:0.00871\tTrain-mae:0.04652\n",
      "[112]\tTrain-rmse:0.05901\tTrain-mape:0.00870\tTrain-mae:0.04649\n",
      "[113]\tTrain-rmse:0.05887\tTrain-mape:0.00868\tTrain-mae:0.04638\n",
      "[114]\tTrain-rmse:0.05869\tTrain-mape:0.00865\tTrain-mae:0.04624\n",
      "[115]\tTrain-rmse:0.05853\tTrain-mape:0.00862\tTrain-mae:0.04611\n",
      "[116]\tTrain-rmse:0.05847\tTrain-mape:0.00861\tTrain-mae:0.04606\n",
      "[117]\tTrain-rmse:0.05835\tTrain-mape:0.00859\tTrain-mae:0.04597\n",
      "[118]\tTrain-rmse:0.05823\tTrain-mape:0.00857\tTrain-mae:0.04587\n",
      "[119]\tTrain-rmse:0.05805\tTrain-mape:0.00855\tTrain-mae:0.04574\n",
      "[120]\tTrain-rmse:0.05792\tTrain-mape:0.00852\tTrain-mae:0.04563\n",
      "[121]\tTrain-rmse:0.05778\tTrain-mape:0.00850\tTrain-mae:0.04552\n",
      "[122]\tTrain-rmse:0.05755\tTrain-mape:0.00847\tTrain-mae:0.04534\n",
      "[123]\tTrain-rmse:0.05740\tTrain-mape:0.00845\tTrain-mae:0.04522\n",
      "[124]\tTrain-rmse:0.05727\tTrain-mape:0.00843\tTrain-mae:0.04512\n",
      "[125]\tTrain-rmse:0.05716\tTrain-mape:0.00841\tTrain-mae:0.04503\n",
      "[126]\tTrain-rmse:0.05703\tTrain-mape:0.00839\tTrain-mae:0.04493\n",
      "[127]\tTrain-rmse:0.05693\tTrain-mape:0.00838\tTrain-mae:0.04485\n",
      "[128]\tTrain-rmse:0.05685\tTrain-mape:0.00837\tTrain-mae:0.04478\n",
      "[129]\tTrain-rmse:0.05675\tTrain-mape:0.00835\tTrain-mae:0.04471\n",
      "[130]\tTrain-rmse:0.05664\tTrain-mape:0.00833\tTrain-mae:0.04462\n",
      "[131]\tTrain-rmse:0.05654\tTrain-mape:0.00832\tTrain-mae:0.04455\n",
      "[132]\tTrain-rmse:0.05639\tTrain-mape:0.00830\tTrain-mae:0.04443\n",
      "[133]\tTrain-rmse:0.05629\tTrain-mape:0.00828\tTrain-mae:0.04435\n",
      "[134]\tTrain-rmse:0.05619\tTrain-mape:0.00827\tTrain-mae:0.04428\n",
      "[135]\tTrain-rmse:0.05609\tTrain-mape:0.00825\tTrain-mae:0.04419\n",
      "[136]\tTrain-rmse:0.05598\tTrain-mape:0.00824\tTrain-mae:0.04411\n",
      "[137]\tTrain-rmse:0.05593\tTrain-mape:0.00823\tTrain-mae:0.04407\n",
      "[138]\tTrain-rmse:0.05587\tTrain-mape:0.00822\tTrain-mae:0.04403\n",
      "[139]\tTrain-rmse:0.05583\tTrain-mape:0.00822\tTrain-mae:0.04399\n",
      "[140]\tTrain-rmse:0.05578\tTrain-mape:0.00821\tTrain-mae:0.04395\n",
      "[141]\tTrain-rmse:0.05566\tTrain-mape:0.00819\tTrain-mae:0.04386\n",
      "[142]\tTrain-rmse:0.05561\tTrain-mape:0.00818\tTrain-mae:0.04381\n",
      "[143]\tTrain-rmse:0.05553\tTrain-mape:0.00817\tTrain-mae:0.04375\n",
      "[144]\tTrain-rmse:0.05544\tTrain-mape:0.00816\tTrain-mae:0.04368\n",
      "[145]\tTrain-rmse:0.05535\tTrain-mape:0.00815\tTrain-mae:0.04361\n",
      "[146]\tTrain-rmse:0.05528\tTrain-mape:0.00814\tTrain-mae:0.04356\n",
      "[147]\tTrain-rmse:0.05523\tTrain-mape:0.00813\tTrain-mae:0.04352\n",
      "[148]\tTrain-rmse:0.05515\tTrain-mape:0.00812\tTrain-mae:0.04346\n",
      "[149]\tTrain-rmse:0.05511\tTrain-mape:0.00811\tTrain-mae:0.04343\n",
      "[150]\tTrain-rmse:0.05499\tTrain-mape:0.00810\tTrain-mae:0.04334\n",
      "[151]\tTrain-rmse:0.05495\tTrain-mape:0.00809\tTrain-mae:0.04331\n",
      "[152]\tTrain-rmse:0.05491\tTrain-mape:0.00809\tTrain-mae:0.04328\n",
      "[153]\tTrain-rmse:0.05486\tTrain-mape:0.00808\tTrain-mae:0.04324\n",
      "[154]\tTrain-rmse:0.05481\tTrain-mape:0.00807\tTrain-mae:0.04320\n",
      "[155]\tTrain-rmse:0.05471\tTrain-mape:0.00806\tTrain-mae:0.04312\n",
      "[156]\tTrain-rmse:0.05462\tTrain-mape:0.00805\tTrain-mae:0.04306\n",
      "[157]\tTrain-rmse:0.05457\tTrain-mape:0.00804\tTrain-mae:0.04302\n",
      "[158]\tTrain-rmse:0.05449\tTrain-mape:0.00803\tTrain-mae:0.04296\n",
      "[159]\tTrain-rmse:0.05435\tTrain-mape:0.00801\tTrain-mae:0.04287\n",
      "[160]\tTrain-rmse:0.05424\tTrain-mape:0.00800\tTrain-mae:0.04279\n",
      "[161]\tTrain-rmse:0.05411\tTrain-mape:0.00799\tTrain-mae:0.04270\n",
      "[162]\tTrain-rmse:0.05410\tTrain-mape:0.00798\tTrain-mae:0.04269\n",
      "[163]\tTrain-rmse:0.05403\tTrain-mape:0.00798\tTrain-mae:0.04264\n",
      "[164]\tTrain-rmse:0.05395\tTrain-mape:0.00797\tTrain-mae:0.04258\n",
      "[165]\tTrain-rmse:0.05392\tTrain-mape:0.00796\tTrain-mae:0.04255\n",
      "[166]\tTrain-rmse:0.05378\tTrain-mape:0.00795\tTrain-mae:0.04246\n",
      "[167]\tTrain-rmse:0.05372\tTrain-mape:0.00794\tTrain-mae:0.04241\n",
      "[168]\tTrain-rmse:0.05361\tTrain-mape:0.00792\tTrain-mae:0.04234\n",
      "[169]\tTrain-rmse:0.05351\tTrain-mape:0.00791\tTrain-mae:0.04227\n",
      "[170]\tTrain-rmse:0.05346\tTrain-mape:0.00791\tTrain-mae:0.04223\n",
      "[171]\tTrain-rmse:0.05337\tTrain-mape:0.00789\tTrain-mae:0.04217\n",
      "[172]\tTrain-rmse:0.05332\tTrain-mape:0.00789\tTrain-mae:0.04213\n",
      "[173]\tTrain-rmse:0.05327\tTrain-mape:0.00788\tTrain-mae:0.04209\n",
      "[174]\tTrain-rmse:0.05320\tTrain-mape:0.00787\tTrain-mae:0.04204\n",
      "[175]\tTrain-rmse:0.05313\tTrain-mape:0.00786\tTrain-mae:0.04199\n",
      "[176]\tTrain-rmse:0.05308\tTrain-mape:0.00785\tTrain-mae:0.04194\n",
      "[177]\tTrain-rmse:0.05303\tTrain-mape:0.00785\tTrain-mae:0.04191\n",
      "[178]\tTrain-rmse:0.05293\tTrain-mape:0.00784\tTrain-mae:0.04183\n",
      "[179]\tTrain-rmse:0.05288\tTrain-mape:0.00783\tTrain-mae:0.04180\n",
      "[180]\tTrain-rmse:0.05284\tTrain-mape:0.00782\tTrain-mae:0.04177\n",
      "[181]\tTrain-rmse:0.05280\tTrain-mape:0.00782\tTrain-mae:0.04174\n",
      "[182]\tTrain-rmse:0.05277\tTrain-mape:0.00782\tTrain-mae:0.04172\n",
      "[183]\tTrain-rmse:0.05268\tTrain-mape:0.00781\tTrain-mae:0.04165\n",
      "[184]\tTrain-rmse:0.05265\tTrain-mape:0.00780\tTrain-mae:0.04163\n",
      "[185]\tTrain-rmse:0.05262\tTrain-mape:0.00780\tTrain-mae:0.04160\n",
      "[186]\tTrain-rmse:0.05257\tTrain-mape:0.00779\tTrain-mae:0.04157\n",
      "[187]\tTrain-rmse:0.05250\tTrain-mape:0.00778\tTrain-mae:0.04152\n",
      "[188]\tTrain-rmse:0.05241\tTrain-mape:0.00777\tTrain-mae:0.04145\n",
      "[189]\tTrain-rmse:0.05236\tTrain-mape:0.00776\tTrain-mae:0.04141\n",
      "[190]\tTrain-rmse:0.05227\tTrain-mape:0.00775\tTrain-mae:0.04135\n",
      "[191]\tTrain-rmse:0.05221\tTrain-mape:0.00775\tTrain-mae:0.04131\n",
      "[192]\tTrain-rmse:0.05218\tTrain-mape:0.00774\tTrain-mae:0.04128\n",
      "[193]\tTrain-rmse:0.05213\tTrain-mape:0.00774\tTrain-mae:0.04125\n",
      "[194]\tTrain-rmse:0.05207\tTrain-mape:0.00773\tTrain-mae:0.04121\n",
      "[195]\tTrain-rmse:0.05204\tTrain-mape:0.00772\tTrain-mae:0.04118\n",
      "[196]\tTrain-rmse:0.05201\tTrain-mape:0.00772\tTrain-mae:0.04115\n",
      "[197]\tTrain-rmse:0.05200\tTrain-mape:0.00772\tTrain-mae:0.04115\n",
      "[198]\tTrain-rmse:0.05198\tTrain-mape:0.00772\tTrain-mae:0.04114\n",
      "[199]\tTrain-rmse:0.05194\tTrain-mape:0.00771\tTrain-mae:0.04110\n"
     ]
    }
   ],
   "source": [
    "xgb_model_full = xgb.train(\n",
    "    params,\n",
    "    dtrain_full,\n",
    "    num_boost_round=200,\n",
    "    evals=[(dtrain_full, \"Train\")],\n",
    ")"
   ]
  },
  {
   "cell_type": "code",
   "execution_count": 157,
   "metadata": {},
   "outputs": [],
   "source": [
    "train_pred = np.expm1(xgb_model.predict(dtrain))\n",
    "val_pred = np.expm1(xgb_model.predict(dval))"
   ]
  },
  {
   "cell_type": "code",
   "execution_count": 158,
   "metadata": {},
   "outputs": [],
   "source": [
    "from sklearn.metrics import mean_absolute_error, mean_squared_error, median_absolute_error"
   ]
  },
  {
   "cell_type": "code",
   "execution_count": 159,
   "metadata": {},
   "outputs": [
    {
     "data": {
      "text/plain": [
       "31.039255682306965"
      ]
     },
     "execution_count": 159,
     "metadata": {},
     "output_type": "execute_result"
    }
   ],
   "source": [
    "mean_absolute_error(y_pred=train_pred, y_true=y_train)"
   ]
  },
  {
   "cell_type": "code",
   "execution_count": 160,
   "metadata": {},
   "outputs": [
    {
     "data": {
      "text/plain": [
       "48.37281612733341"
      ]
     },
     "execution_count": 160,
     "metadata": {},
     "output_type": "execute_result"
    }
   ],
   "source": [
    "mean_absolute_error(y_pred=val_pred, y_true=y_val)"
   ]
  },
  {
   "cell_type": "code",
   "execution_count": 161,
   "metadata": {},
   "outputs": [
    {
     "data": {
      "text/plain": [
       "15.434967041015625"
      ]
     },
     "execution_count": 161,
     "metadata": {},
     "output_type": "execute_result"
    }
   ],
   "source": [
    "median_absolute_error(y_pred=train_pred, y_true=y_train)"
   ]
  },
  {
   "cell_type": "code",
   "execution_count": 162,
   "metadata": {},
   "outputs": [
    {
     "data": {
      "text/plain": [
       "22.342239379882812"
      ]
     },
     "execution_count": 162,
     "metadata": {},
     "output_type": "execute_result"
    }
   ],
   "source": [
    "median_absolute_error(y_pred=val_pred, y_true=y_val)"
   ]
  },
  {
   "cell_type": "code",
   "execution_count": 163,
   "metadata": {},
   "outputs": [
    {
     "data": {
      "text/plain": [
       "(98550, 50)"
      ]
     },
     "execution_count": 163,
     "metadata": {},
     "output_type": "execute_result"
    }
   ],
   "source": [
    "dtest_full.num_row(), dtest_full.num_col()"
   ]
  },
  {
   "cell_type": "code",
   "execution_count": 164,
   "metadata": {},
   "outputs": [
    {
     "data": {
      "text/plain": [
       "(221259, 50)"
      ]
     },
     "execution_count": 164,
     "metadata": {},
     "output_type": "execute_result"
    }
   ],
   "source": [
    "dtrain_full.num_row(), dtrain_full.num_col()"
   ]
  },
  {
   "cell_type": "code",
   "execution_count": 165,
   "metadata": {},
   "outputs": [],
   "source": [
    "test_pred = xgb_model.predict(dtest_full)"
   ]
  },
  {
   "cell_type": "code",
   "execution_count": 166,
   "metadata": {},
   "outputs": [
    {
     "data": {
      "text/plain": [
       "array([6.7827315, 6.4386034, 6.0766964, ..., 7.04448  , 7.992071 ,\n",
       "       7.9975495], dtype=float32)"
      ]
     },
     "execution_count": 166,
     "metadata": {},
     "output_type": "execute_result"
    }
   ],
   "source": [
    "test_pred"
   ]
  },
  {
   "cell_type": "code",
   "execution_count": 167,
   "metadata": {},
   "outputs": [],
   "source": [
    "test_df['num_sold'] = np.expm1(test_pred)"
   ]
  },
  {
   "cell_type": "code",
   "execution_count": 168,
   "metadata": {},
   "outputs": [],
   "source": [
    "test_df['num_sold'] = np.round(test_df['num_sold'])"
   ]
  },
  {
   "cell_type": "code",
   "execution_count": 169,
   "metadata": {},
   "outputs": [
    {
     "data": {
      "text/plain": [
       "(5.0, 3744.0)"
      ]
     },
     "execution_count": 169,
     "metadata": {},
     "output_type": "execute_result"
    }
   ],
   "source": [
    "min(test_df['num_sold']), max(test_df['num_sold'])"
   ]
  },
  {
   "cell_type": "code",
   "execution_count": 170,
   "metadata": {},
   "outputs": [
    {
     "data": {
      "text/plain": [
       "(5.0, 5939.0)"
      ]
     },
     "execution_count": 170,
     "metadata": {},
     "output_type": "execute_result"
    }
   ],
   "source": [
    "train_df['num_sold'].min(), train_df['num_sold'].max()"
   ]
  },
  {
   "cell_type": "code",
   "execution_count": 171,
   "metadata": {},
   "outputs": [],
   "source": [
    "submission_data = test_df[['id', 'num_sold']]"
   ]
  },
  {
   "cell_type": "code",
   "execution_count": 172,
   "metadata": {},
   "outputs": [],
   "source": [
    "submission_data.to_csv(\"/Users/priyanshu.tuli/Desktop/machinehack/sticker_sale_forecast/playground-series-s5e1/submission.csv\", index=False)"
   ]
  },
  {
   "cell_type": "code",
   "execution_count": 173,
   "metadata": {},
   "outputs": [
    {
     "data": {
      "image/png": "[encoded data removed]",
      "text/plain": [
       "<Figure size 640x480 with 1 Axes>"
      ]
     },
     "metadata": {},
     "output_type": "display_data"
    }
   ],
   "source": [
    "xgb.plot_importance(xgb_model, max_num_features=20)\n",
    "plt.show()"
   ]
  },
  {
   "cell_type": "code",
   "execution_count": null,
   "metadata": {},
   "outputs": [],
   "source": []
  }
 ],
 "metadata": {
  "kernelspec": {
   "display_name": ".venv",
   "language": "python",
   "name": "python3"
  },
  "language_info": {
   "codemirror_mode": {
    "name": "ipython",
    "version": 3
   },
   "file_extension": ".py",
   "mimetype": "text/x-python",
   "name": "python",
   "nbconvert_exporter": "python",
   "pygments_lexer": "ipython3",
   "version": "3.9.6"
  }
 },
 "nbformat": 4,
 "nbformat_minor": 2
}
